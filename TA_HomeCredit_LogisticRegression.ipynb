{
  "nbformat": 4,
  "nbformat_minor": 0,
  "metadata": {
    "colab": {
      "name": "TA_HomeCredit_LogisticRegression.ipynb",
      "provenance": [],
      "collapsed_sections": []
    },
    "kernelspec": {
      "name": "python3",
      "display_name": "Python 3"
    },
    "language_info": {
      "name": "python"
    }
  },
  "cells": [
    {
      "cell_type": "code",
      "execution_count": 121,
      "metadata": {
        "id": "lNmbl6HzsUNQ"
      },
      "outputs": [],
      "source": [
        "import pandas as pd\n",
        "import numpy as np\n",
        "from sklearn import preprocessing\n",
        "import matplotlib.pyplot as plt \n",
        "plt.rc(\"font\", size=14)\n",
        "from sklearn.linear_model import LogisticRegression\n",
        "from sklearn.model_selection import train_test_split\n",
        "import seaborn as sns\n",
        "sns.set(style=\"white\")\n",
        "sns.set(style=\"whitegrid\", color_codes=True)"
      ]
    },
    {
      "cell_type": "code",
      "source": [
        "d1 = pd.read_csv(\"application_test.csv\")\n",
        "d2 = pd.read_csv(\"application_train.csv\")"
      ],
      "metadata": {
        "id": "5vxJ0Skqs5AC"
      },
      "execution_count": 122,
      "outputs": []
    },
    {
      "cell_type": "code",
      "source": [
        "application_test = d1[['SK_ID_CURR', 'CODE_GENDER', 'NAME_FAMILY_STATUS', 'NAME_HOUSING_TYPE','NAME_INCOME_TYPE', 'AMT_INCOME_TOTAL']]\n",
        "application_train = d2[['SK_ID_CURR', 'TARGET', 'CODE_GENDER', 'NAME_FAMILY_STATUS', 'NAME_HOUSING_TYPE', 'NAME_INCOME_TYPE', 'AMT_INCOME_TOTAL']]\n",
        "\n",
        "application = pd.concat([application_test, application_train]).sort_values('SK_ID_CURR')\n",
        "data = application[application['TARGET'].notna()]\n",
        "data"
      ],
      "metadata": {
        "id": "xVr8nnaFs8c7",
        "colab": {
          "base_uri": "https://localhost:8080/",
          "height": 423
        },
        "outputId": "5fd522da-428b-42bc-9129-5c40bd6608b6"
      },
      "execution_count": 123,
      "outputs": [
        {
          "output_type": "execute_result",
          "data": {
            "text/plain": [
              "        SK_ID_CURR CODE_GENDER    NAME_FAMILY_STATUS  NAME_HOUSING_TYPE  \\\n",
              "0           100002           M  Single / not married  House / apartment   \n",
              "1           100003           F               Married  House / apartment   \n",
              "2           100004           M  Single / not married  House / apartment   \n",
              "3           100006           F        Civil marriage  House / apartment   \n",
              "4           100007           M  Single / not married  House / apartment   \n",
              "...            ...         ...                   ...                ...   \n",
              "307506      456251           M             Separated       With parents   \n",
              "307507      456252           F                 Widow  House / apartment   \n",
              "307508      456253           F             Separated  House / apartment   \n",
              "307509      456254           F               Married  House / apartment   \n",
              "307510      456255           F               Married  House / apartment   \n",
              "\n",
              "            NAME_INCOME_TYPE  AMT_INCOME_TOTAL  TARGET  \n",
              "0                    Working          202500.0     1.0  \n",
              "1              State servant          270000.0     0.0  \n",
              "2                    Working           67500.0     0.0  \n",
              "3                    Working          135000.0     0.0  \n",
              "4                    Working          121500.0     0.0  \n",
              "...                      ...               ...     ...  \n",
              "307506               Working          157500.0     0.0  \n",
              "307507             Pensioner           72000.0     0.0  \n",
              "307508               Working          153000.0     0.0  \n",
              "307509  Commercial associate          171000.0     1.0  \n",
              "307510  Commercial associate          157500.0     0.0  \n",
              "\n",
              "[307511 rows x 7 columns]"
            ],
            "text/html": [
              "\n",
              "  <div id=\"df-d1c09d1b-3e91-4043-a166-ffb800a9b443\">\n",
              "    <div class=\"colab-df-container\">\n",
              "      <div>\n",
              "<style scoped>\n",
              "    .dataframe tbody tr th:only-of-type {\n",
              "        vertical-align: middle;\n",
              "    }\n",
              "\n",
              "    .dataframe tbody tr th {\n",
              "        vertical-align: top;\n",
              "    }\n",
              "\n",
              "    .dataframe thead th {\n",
              "        text-align: right;\n",
              "    }\n",
              "</style>\n",
              "<table border=\"1\" class=\"dataframe\">\n",
              "  <thead>\n",
              "    <tr style=\"text-align: right;\">\n",
              "      <th></th>\n",
              "      <th>SK_ID_CURR</th>\n",
              "      <th>CODE_GENDER</th>\n",
              "      <th>NAME_FAMILY_STATUS</th>\n",
              "      <th>NAME_HOUSING_TYPE</th>\n",
              "      <th>NAME_INCOME_TYPE</th>\n",
              "      <th>AMT_INCOME_TOTAL</th>\n",
              "      <th>TARGET</th>\n",
              "    </tr>\n",
              "  </thead>\n",
              "  <tbody>\n",
              "    <tr>\n",
              "      <th>0</th>\n",
              "      <td>100002</td>\n",
              "      <td>M</td>\n",
              "      <td>Single / not married</td>\n",
              "      <td>House / apartment</td>\n",
              "      <td>Working</td>\n",
              "      <td>202500.0</td>\n",
              "      <td>1.0</td>\n",
              "    </tr>\n",
              "    <tr>\n",
              "      <th>1</th>\n",
              "      <td>100003</td>\n",
              "      <td>F</td>\n",
              "      <td>Married</td>\n",
              "      <td>House / apartment</td>\n",
              "      <td>State servant</td>\n",
              "      <td>270000.0</td>\n",
              "      <td>0.0</td>\n",
              "    </tr>\n",
              "    <tr>\n",
              "      <th>2</th>\n",
              "      <td>100004</td>\n",
              "      <td>M</td>\n",
              "      <td>Single / not married</td>\n",
              "      <td>House / apartment</td>\n",
              "      <td>Working</td>\n",
              "      <td>67500.0</td>\n",
              "      <td>0.0</td>\n",
              "    </tr>\n",
              "    <tr>\n",
              "      <th>3</th>\n",
              "      <td>100006</td>\n",
              "      <td>F</td>\n",
              "      <td>Civil marriage</td>\n",
              "      <td>House / apartment</td>\n",
              "      <td>Working</td>\n",
              "      <td>135000.0</td>\n",
              "      <td>0.0</td>\n",
              "    </tr>\n",
              "    <tr>\n",
              "      <th>4</th>\n",
              "      <td>100007</td>\n",
              "      <td>M</td>\n",
              "      <td>Single / not married</td>\n",
              "      <td>House / apartment</td>\n",
              "      <td>Working</td>\n",
              "      <td>121500.0</td>\n",
              "      <td>0.0</td>\n",
              "    </tr>\n",
              "    <tr>\n",
              "      <th>...</th>\n",
              "      <td>...</td>\n",
              "      <td>...</td>\n",
              "      <td>...</td>\n",
              "      <td>...</td>\n",
              "      <td>...</td>\n",
              "      <td>...</td>\n",
              "      <td>...</td>\n",
              "    </tr>\n",
              "    <tr>\n",
              "      <th>307506</th>\n",
              "      <td>456251</td>\n",
              "      <td>M</td>\n",
              "      <td>Separated</td>\n",
              "      <td>With parents</td>\n",
              "      <td>Working</td>\n",
              "      <td>157500.0</td>\n",
              "      <td>0.0</td>\n",
              "    </tr>\n",
              "    <tr>\n",
              "      <th>307507</th>\n",
              "      <td>456252</td>\n",
              "      <td>F</td>\n",
              "      <td>Widow</td>\n",
              "      <td>House / apartment</td>\n",
              "      <td>Pensioner</td>\n",
              "      <td>72000.0</td>\n",
              "      <td>0.0</td>\n",
              "    </tr>\n",
              "    <tr>\n",
              "      <th>307508</th>\n",
              "      <td>456253</td>\n",
              "      <td>F</td>\n",
              "      <td>Separated</td>\n",
              "      <td>House / apartment</td>\n",
              "      <td>Working</td>\n",
              "      <td>153000.0</td>\n",
              "      <td>0.0</td>\n",
              "    </tr>\n",
              "    <tr>\n",
              "      <th>307509</th>\n",
              "      <td>456254</td>\n",
              "      <td>F</td>\n",
              "      <td>Married</td>\n",
              "      <td>House / apartment</td>\n",
              "      <td>Commercial associate</td>\n",
              "      <td>171000.0</td>\n",
              "      <td>1.0</td>\n",
              "    </tr>\n",
              "    <tr>\n",
              "      <th>307510</th>\n",
              "      <td>456255</td>\n",
              "      <td>F</td>\n",
              "      <td>Married</td>\n",
              "      <td>House / apartment</td>\n",
              "      <td>Commercial associate</td>\n",
              "      <td>157500.0</td>\n",
              "      <td>0.0</td>\n",
              "    </tr>\n",
              "  </tbody>\n",
              "</table>\n",
              "<p>307511 rows × 7 columns</p>\n",
              "</div>\n",
              "      <button class=\"colab-df-convert\" onclick=\"convertToInteractive('df-d1c09d1b-3e91-4043-a166-ffb800a9b443')\"\n",
              "              title=\"Convert this dataframe to an interactive table.\"\n",
              "              style=\"display:none;\">\n",
              "        \n",
              "  <svg xmlns=\"http://www.w3.org/2000/svg\" height=\"24px\"viewBox=\"0 0 24 24\"\n",
              "       width=\"24px\">\n",
              "    <path d=\"M0 0h24v24H0V0z\" fill=\"none\"/>\n",
              "    <path d=\"M18.56 5.44l.94 2.06.94-2.06 2.06-.94-2.06-.94-.94-2.06-.94 2.06-2.06.94zm-11 1L8.5 8.5l.94-2.06 2.06-.94-2.06-.94L8.5 2.5l-.94 2.06-2.06.94zm10 10l.94 2.06.94-2.06 2.06-.94-2.06-.94-.94-2.06-.94 2.06-2.06.94z\"/><path d=\"M17.41 7.96l-1.37-1.37c-.4-.4-.92-.59-1.43-.59-.52 0-1.04.2-1.43.59L10.3 9.45l-7.72 7.72c-.78.78-.78 2.05 0 2.83L4 21.41c.39.39.9.59 1.41.59.51 0 1.02-.2 1.41-.59l7.78-7.78 2.81-2.81c.8-.78.8-2.07 0-2.86zM5.41 20L4 18.59l7.72-7.72 1.47 1.35L5.41 20z\"/>\n",
              "  </svg>\n",
              "      </button>\n",
              "      \n",
              "  <style>\n",
              "    .colab-df-container {\n",
              "      display:flex;\n",
              "      flex-wrap:wrap;\n",
              "      gap: 12px;\n",
              "    }\n",
              "\n",
              "    .colab-df-convert {\n",
              "      background-color: #E8F0FE;\n",
              "      border: none;\n",
              "      border-radius: 50%;\n",
              "      cursor: pointer;\n",
              "      display: none;\n",
              "      fill: #1967D2;\n",
              "      height: 32px;\n",
              "      padding: 0 0 0 0;\n",
              "      width: 32px;\n",
              "    }\n",
              "\n",
              "    .colab-df-convert:hover {\n",
              "      background-color: #E2EBFA;\n",
              "      box-shadow: 0px 1px 2px rgba(60, 64, 67, 0.3), 0px 1px 3px 1px rgba(60, 64, 67, 0.15);\n",
              "      fill: #174EA6;\n",
              "    }\n",
              "\n",
              "    [theme=dark] .colab-df-convert {\n",
              "      background-color: #3B4455;\n",
              "      fill: #D2E3FC;\n",
              "    }\n",
              "\n",
              "    [theme=dark] .colab-df-convert:hover {\n",
              "      background-color: #434B5C;\n",
              "      box-shadow: 0px 1px 3px 1px rgba(0, 0, 0, 0.15);\n",
              "      filter: drop-shadow(0px 1px 2px rgba(0, 0, 0, 0.3));\n",
              "      fill: #FFFFFF;\n",
              "    }\n",
              "  </style>\n",
              "\n",
              "      <script>\n",
              "        const buttonEl =\n",
              "          document.querySelector('#df-d1c09d1b-3e91-4043-a166-ffb800a9b443 button.colab-df-convert');\n",
              "        buttonEl.style.display =\n",
              "          google.colab.kernel.accessAllowed ? 'block' : 'none';\n",
              "\n",
              "        async function convertToInteractive(key) {\n",
              "          const element = document.querySelector('#df-d1c09d1b-3e91-4043-a166-ffb800a9b443');\n",
              "          const dataTable =\n",
              "            await google.colab.kernel.invokeFunction('convertToInteractive',\n",
              "                                                     [key], {});\n",
              "          if (!dataTable) return;\n",
              "\n",
              "          const docLinkHtml = 'Like what you see? Visit the ' +\n",
              "            '<a target=\"_blank\" href=https://colab.research.google.com/notebooks/data_table.ipynb>data table notebook</a>'\n",
              "            + ' to learn more about interactive tables.';\n",
              "          element.innerHTML = '';\n",
              "          dataTable['output_type'] = 'display_data';\n",
              "          await google.colab.output.renderOutput(dataTable, element);\n",
              "          const docLink = document.createElement('div');\n",
              "          docLink.innerHTML = docLinkHtml;\n",
              "          element.appendChild(docLink);\n",
              "        }\n",
              "      </script>\n",
              "    </div>\n",
              "  </div>\n",
              "  "
            ]
          },
          "metadata": {},
          "execution_count": 123
        }
      ]
    },
    {
      "cell_type": "markdown",
      "source": [
        "# **DEPENDENT = TARGET**"
      ],
      "metadata": {
        "id": "bmqCl22jVnuY"
      }
    },
    {
      "cell_type": "markdown",
      "source": [
        "Jumlah banyak data dari setiap target"
      ],
      "metadata": {
        "id": "TT_habDuUi1L"
      }
    },
    {
      "cell_type": "code",
      "source": [
        "data['TARGET'].value_counts()"
      ],
      "metadata": {
        "colab": {
          "base_uri": "https://localhost:8080/"
        },
        "id": "ic-jnpLhNMU1",
        "outputId": "7bfc2ff8-87ab-469f-8a6b-07cb5989c0e1"
      },
      "execution_count": 124,
      "outputs": [
        {
          "output_type": "execute_result",
          "data": {
            "text/plain": [
              "0.0    282686\n",
              "1.0     24825\n",
              "Name: TARGET, dtype: int64"
            ]
          },
          "metadata": {},
          "execution_count": 124
        }
      ]
    },
    {
      "cell_type": "markdown",
      "source": [
        "Plot dari jumlah banyak data dari setiap target"
      ],
      "metadata": {
        "id": "1bX26-FQUlxQ"
      }
    },
    {
      "cell_type": "code",
      "source": [
        "sns.countplot(x = 'TARGET', data = data, palette = 'hls')\n",
        "plt.show()"
      ],
      "metadata": {
        "colab": {
          "base_uri": "https://localhost:8080/",
          "height": 285
        },
        "id": "Xpq9tAZouhCv",
        "outputId": "5331e219-6896-4deb-a400-a63b3692f1fb"
      },
      "execution_count": 125,
      "outputs": [
        {
          "output_type": "display_data",
          "data": {
            "text/plain": [
              "<Figure size 432x288 with 1 Axes>"
            ],
            "image/png": "[encoded data removed]"
          },
          "metadata": {}
        }
      ]
    },
    {
      "cell_type": "markdown",
      "source": [
        "Presentase dari setiap target"
      ],
      "metadata": {
        "id": "PS_qVYRJUuv3"
      }
    },
    {
      "cell_type": "code",
      "source": [
        "count_no_difficulties = len(data[data['TARGET'] == 0])\n",
        "count_difficulties = len(data[data['TARGET'] == 1])\n",
        "\n",
        "percentage_no_difficulties = count_no_difficulties / (count_no_difficulties + count_difficulties)\n",
        "percentage_difficulties = count_difficulties / (count_no_difficulties + count_difficulties)\n",
        "\n",
        "print('percentage_no_difficulties: ', percentage_no_difficulties*100)\n",
        "print('percentage_difficulties: ', percentage_difficulties*100)"
      ],
      "metadata": {
        "id": "dzPYmPTM50ih",
        "colab": {
          "base_uri": "https://localhost:8080/"
        },
        "outputId": "6e76f783-d91e-4fb4-9dfa-3c24734b5e26"
      },
      "execution_count": 126,
      "outputs": [
        {
          "output_type": "stream",
          "name": "stdout",
          "text": [
            "percentage_no_difficulties:  91.92711805431351\n",
            "percentage_difficulties:  8.072881945686495\n"
          ]
        }
      ]
    },
    {
      "cell_type": "markdown",
      "source": [
        "Rata-rata penghasilan dari setiap target"
      ],
      "metadata": {
        "id": "DBzu8X0nU1lJ"
      }
    },
    {
      "cell_type": "code",
      "source": [
        "data.groupby('TARGET').mean()"
      ],
      "metadata": {
        "colab": {
          "base_uri": "https://localhost:8080/",
          "height": 143
        },
        "id": "KL1P5izJOthq",
        "outputId": "718636df-cf39-4747-858f-b063fae65e4c"
      },
      "execution_count": 127,
      "outputs": [
        {
          "output_type": "execute_result",
          "data": {
            "text/plain": [
              "           SK_ID_CURR  AMT_INCOME_TOTAL\n",
              "TARGET                                 \n",
              "0.0     278244.744536     169077.722266\n",
              "1.0     277449.167936     165611.760906"
            ],
            "text/html": [
              "\n",
              "  <div id=\"df-1991334f-b6ef-4b7c-ab9e-a7a8e806202f\">\n",
              "    <div class=\"colab-df-container\">\n",
              "      <div>\n",
              "<style scoped>\n",
              "    .dataframe tbody tr th:only-of-type {\n",
              "        vertical-align: middle;\n",
              "    }\n",
              "\n",
              "    .dataframe tbody tr th {\n",
              "        vertical-align: top;\n",
              "    }\n",
              "\n",
              "    .dataframe thead th {\n",
              "        text-align: right;\n",
              "    }\n",
              "</style>\n",
              "<table border=\"1\" class=\"dataframe\">\n",
              "  <thead>\n",
              "    <tr style=\"text-align: right;\">\n",
              "      <th></th>\n",
              "      <th>SK_ID_CURR</th>\n",
              "      <th>AMT_INCOME_TOTAL</th>\n",
              "    </tr>\n",
              "    <tr>\n",
              "      <th>TARGET</th>\n",
              "      <th></th>\n",
              "      <th></th>\n",
              "    </tr>\n",
              "  </thead>\n",
              "  <tbody>\n",
              "    <tr>\n",
              "      <th>0.0</th>\n",
              "      <td>278244.744536</td>\n",
              "      <td>169077.722266</td>\n",
              "    </tr>\n",
              "    <tr>\n",
              "      <th>1.0</th>\n",
              "      <td>277449.167936</td>\n",
              "      <td>165611.760906</td>\n",
              "    </tr>\n",
              "  </tbody>\n",
              "</table>\n",
              "</div>\n",
              "      <button class=\"colab-df-convert\" onclick=\"convertToInteractive('df-1991334f-b6ef-4b7c-ab9e-a7a8e806202f')\"\n",
              "              title=\"Convert this dataframe to an interactive table.\"\n",
              "              style=\"display:none;\">\n",
              "        \n",
              "  <svg xmlns=\"http://www.w3.org/2000/svg\" height=\"24px\"viewBox=\"0 0 24 24\"\n",
              "       width=\"24px\">\n",
              "    <path d=\"M0 0h24v24H0V0z\" fill=\"none\"/>\n",
              "    <path d=\"M18.56 5.44l.94 2.06.94-2.06 2.06-.94-2.06-.94-.94-2.06-.94 2.06-2.06.94zm-11 1L8.5 8.5l.94-2.06 2.06-.94-2.06-.94L8.5 2.5l-.94 2.06-2.06.94zm10 10l.94 2.06.94-2.06 2.06-.94-2.06-.94-.94-2.06-.94 2.06-2.06.94z\"/><path d=\"M17.41 7.96l-1.37-1.37c-.4-.4-.92-.59-1.43-.59-.52 0-1.04.2-1.43.59L10.3 9.45l-7.72 7.72c-.78.78-.78 2.05 0 2.83L4 21.41c.39.39.9.59 1.41.59.51 0 1.02-.2 1.41-.59l7.78-7.78 2.81-2.81c.8-.78.8-2.07 0-2.86zM5.41 20L4 18.59l7.72-7.72 1.47 1.35L5.41 20z\"/>\n",
              "  </svg>\n",
              "      </button>\n",
              "      \n",
              "  <style>\n",
              "    .colab-df-container {\n",
              "      display:flex;\n",
              "      flex-wrap:wrap;\n",
              "      gap: 12px;\n",
              "    }\n",
              "\n",
              "    .colab-df-convert {\n",
              "      background-color: #E8F0FE;\n",
              "      border: none;\n",
              "      border-radius: 50%;\n",
              "      cursor: pointer;\n",
              "      display: none;\n",
              "      fill: #1967D2;\n",
              "      height: 32px;\n",
              "      padding: 0 0 0 0;\n",
              "      width: 32px;\n",
              "    }\n",
              "\n",
              "    .colab-df-convert:hover {\n",
              "      background-color: #E2EBFA;\n",
              "      box-shadow: 0px 1px 2px rgba(60, 64, 67, 0.3), 0px 1px 3px 1px rgba(60, 64, 67, 0.15);\n",
              "      fill: #174EA6;\n",
              "    }\n",
              "\n",
              "    [theme=dark] .colab-df-convert {\n",
              "      background-color: #3B4455;\n",
              "      fill: #D2E3FC;\n",
              "    }\n",
              "\n",
              "    [theme=dark] .colab-df-convert:hover {\n",
              "      background-color: #434B5C;\n",
              "      box-shadow: 0px 1px 3px 1px rgba(0, 0, 0, 0.15);\n",
              "      filter: drop-shadow(0px 1px 2px rgba(0, 0, 0, 0.3));\n",
              "      fill: #FFFFFF;\n",
              "    }\n",
              "  </style>\n",
              "\n",
              "      <script>\n",
              "        const buttonEl =\n",
              "          document.querySelector('#df-1991334f-b6ef-4b7c-ab9e-a7a8e806202f button.colab-df-convert');\n",
              "        buttonEl.style.display =\n",
              "          google.colab.kernel.accessAllowed ? 'block' : 'none';\n",
              "\n",
              "        async function convertToInteractive(key) {\n",
              "          const element = document.querySelector('#df-1991334f-b6ef-4b7c-ab9e-a7a8e806202f');\n",
              "          const dataTable =\n",
              "            await google.colab.kernel.invokeFunction('convertToInteractive',\n",
              "                                                     [key], {});\n",
              "          if (!dataTable) return;\n",
              "\n",
              "          const docLinkHtml = 'Like what you see? Visit the ' +\n",
              "            '<a target=\"_blank\" href=https://colab.research.google.com/notebooks/data_table.ipynb>data table notebook</a>'\n",
              "            + ' to learn more about interactive tables.';\n",
              "          element.innerHTML = '';\n",
              "          dataTable['output_type'] = 'display_data';\n",
              "          await google.colab.output.renderOutput(dataTable, element);\n",
              "          const docLink = document.createElement('div');\n",
              "          docLink.innerHTML = docLinkHtml;\n",
              "          element.appendChild(docLink);\n",
              "        }\n",
              "      </script>\n",
              "    </div>\n",
              "  </div>\n",
              "  "
            ]
          },
          "metadata": {},
          "execution_count": 127
        }
      ]
    },
    {
      "cell_type": "markdown",
      "source": [
        "Rata-rata penghasilan dari setiap jenis pekerjaan"
      ],
      "metadata": {
        "id": "HEQQfLCEU4ZG"
      }
    },
    {
      "cell_type": "code",
      "source": [
        "data.groupby(['NAME_INCOME_TYPE', 'TARGET']).mean()"
      ],
      "metadata": {
        "colab": {
          "base_uri": "https://localhost:8080/",
          "height": 519
        },
        "id": "XEcuia72QAYC",
        "outputId": "042a512f-9730-4046-d0ae-a180c3b9353e"
      },
      "execution_count": 128,
      "outputs": [
        {
          "output_type": "execute_result",
          "data": {
            "text/plain": [
              "                                SK_ID_CURR  AMT_INCOME_TOTAL\n",
              "NAME_INCOME_TYPE     TARGET                                 \n",
              "Businessman          0.0     275396.900000     652500.000000\n",
              "Commercial associate 0.0     278336.306609     204147.589265\n",
              "                     1.0     277961.875933     188217.323228\n",
              "Maternity leave      0.0     275371.000000     195000.000000\n",
              "                     1.0     395252.500000      58500.000000\n",
              "Pensioner            0.0     278624.989233     136449.361318\n",
              "                     1.0     276069.449698     135556.940644\n",
              "State servant        0.0     279078.158453     180655.430487\n",
              "                     1.0     276118.368295     164713.352282\n",
              "Student              0.0     257344.777778     170500.000000\n",
              "Unemployed           0.0     252139.214286     132557.142857\n",
              "                     1.0     258495.625000      72000.000000\n",
              "Working              0.0     277950.410038     163116.124371\n",
              "                     1.0     277642.572780     163676.848266"
            ],
            "text/html": [
              "\n",
              "  <div id=\"df-a53845a3-84d8-455f-b248-3a4b8fd7b1fb\">\n",
              "    <div class=\"colab-df-container\">\n",
              "      <div>\n",
              "<style scoped>\n",
              "    .dataframe tbody tr th:only-of-type {\n",
              "        vertical-align: middle;\n",
              "    }\n",
              "\n",
              "    .dataframe tbody tr th {\n",
              "        vertical-align: top;\n",
              "    }\n",
              "\n",
              "    .dataframe thead th {\n",
              "        text-align: right;\n",
              "    }\n",
              "</style>\n",
              "<table border=\"1\" class=\"dataframe\">\n",
              "  <thead>\n",
              "    <tr style=\"text-align: right;\">\n",
              "      <th></th>\n",
              "      <th></th>\n",
              "      <th>SK_ID_CURR</th>\n",
              "      <th>AMT_INCOME_TOTAL</th>\n",
              "    </tr>\n",
              "    <tr>\n",
              "      <th>NAME_INCOME_TYPE</th>\n",
              "      <th>TARGET</th>\n",
              "      <th></th>\n",
              "      <th></th>\n",
              "    </tr>\n",
              "  </thead>\n",
              "  <tbody>\n",
              "    <tr>\n",
              "      <th>Businessman</th>\n",
              "      <th>0.0</th>\n",
              "      <td>275396.900000</td>\n",
              "      <td>652500.000000</td>\n",
              "    </tr>\n",
              "    <tr>\n",
              "      <th rowspan=\"2\" valign=\"top\">Commercial associate</th>\n",
              "      <th>0.0</th>\n",
              "      <td>278336.306609</td>\n",
              "      <td>204147.589265</td>\n",
              "    </tr>\n",
              "    <tr>\n",
              "      <th>1.0</th>\n",
              "      <td>277961.875933</td>\n",
              "      <td>188217.323228</td>\n",
              "    </tr>\n",
              "    <tr>\n",
              "      <th rowspan=\"2\" valign=\"top\">Maternity leave</th>\n",
              "      <th>0.0</th>\n",
              "      <td>275371.000000</td>\n",
              "      <td>195000.000000</td>\n",
              "    </tr>\n",
              "    <tr>\n",
              "      <th>1.0</th>\n",
              "      <td>395252.500000</td>\n",
              "      <td>58500.000000</td>\n",
              "    </tr>\n",
              "    <tr>\n",
              "      <th rowspan=\"2\" valign=\"top\">Pensioner</th>\n",
              "      <th>0.0</th>\n",
              "      <td>278624.989233</td>\n",
              "      <td>136449.361318</td>\n",
              "    </tr>\n",
              "    <tr>\n",
              "      <th>1.0</th>\n",
              "      <td>276069.449698</td>\n",
              "      <td>135556.940644</td>\n",
              "    </tr>\n",
              "    <tr>\n",
              "      <th rowspan=\"2\" valign=\"top\">State servant</th>\n",
              "      <th>0.0</th>\n",
              "      <td>279078.158453</td>\n",
              "      <td>180655.430487</td>\n",
              "    </tr>\n",
              "    <tr>\n",
              "      <th>1.0</th>\n",
              "      <td>276118.368295</td>\n",
              "      <td>164713.352282</td>\n",
              "    </tr>\n",
              "    <tr>\n",
              "      <th>Student</th>\n",
              "      <th>0.0</th>\n",
              "      <td>257344.777778</td>\n",
              "      <td>170500.000000</td>\n",
              "    </tr>\n",
              "    <tr>\n",
              "      <th rowspan=\"2\" valign=\"top\">Unemployed</th>\n",
              "      <th>0.0</th>\n",
              "      <td>252139.214286</td>\n",
              "      <td>132557.142857</td>\n",
              "    </tr>\n",
              "    <tr>\n",
              "      <th>1.0</th>\n",
              "      <td>258495.625000</td>\n",
              "      <td>72000.000000</td>\n",
              "    </tr>\n",
              "    <tr>\n",
              "      <th rowspan=\"2\" valign=\"top\">Working</th>\n",
              "      <th>0.0</th>\n",
              "      <td>277950.410038</td>\n",
              "      <td>163116.124371</td>\n",
              "    </tr>\n",
              "    <tr>\n",
              "      <th>1.0</th>\n",
              "      <td>277642.572780</td>\n",
              "      <td>163676.848266</td>\n",
              "    </tr>\n",
              "  </tbody>\n",
              "</table>\n",
              "</div>\n",
              "      <button class=\"colab-df-convert\" onclick=\"convertToInteractive('df-a53845a3-84d8-455f-b248-3a4b8fd7b1fb')\"\n",
              "              title=\"Convert this dataframe to an interactive table.\"\n",
              "              style=\"display:none;\">\n",
              "        \n",
              "  <svg xmlns=\"http://www.w3.org/2000/svg\" height=\"24px\"viewBox=\"0 0 24 24\"\n",
              "       width=\"24px\">\n",
              "    <path d=\"M0 0h24v24H0V0z\" fill=\"none\"/>\n",
              "    <path d=\"M18.56 5.44l.94 2.06.94-2.06 2.06-.94-2.06-.94-.94-2.06-.94 2.06-2.06.94zm-11 1L8.5 8.5l.94-2.06 2.06-.94-2.06-.94L8.5 2.5l-.94 2.06-2.06.94zm10 10l.94 2.06.94-2.06 2.06-.94-2.06-.94-.94-2.06-.94 2.06-2.06.94z\"/><path d=\"M17.41 7.96l-1.37-1.37c-.4-.4-.92-.59-1.43-.59-.52 0-1.04.2-1.43.59L10.3 9.45l-7.72 7.72c-.78.78-.78 2.05 0 2.83L4 21.41c.39.39.9.59 1.41.59.51 0 1.02-.2 1.41-.59l7.78-7.78 2.81-2.81c.8-.78.8-2.07 0-2.86zM5.41 20L4 18.59l7.72-7.72 1.47 1.35L5.41 20z\"/>\n",
              "  </svg>\n",
              "      </button>\n",
              "      \n",
              "  <style>\n",
              "    .colab-df-container {\n",
              "      display:flex;\n",
              "      flex-wrap:wrap;\n",
              "      gap: 12px;\n",
              "    }\n",
              "\n",
              "    .colab-df-convert {\n",
              "      background-color: #E8F0FE;\n",
              "      border: none;\n",
              "      border-radius: 50%;\n",
              "      cursor: pointer;\n",
              "      display: none;\n",
              "      fill: #1967D2;\n",
              "      height: 32px;\n",
              "      padding: 0 0 0 0;\n",
              "      width: 32px;\n",
              "    }\n",
              "\n",
              "    .colab-df-convert:hover {\n",
              "      background-color: #E2EBFA;\n",
              "      box-shadow: 0px 1px 2px rgba(60, 64, 67, 0.3), 0px 1px 3px 1px rgba(60, 64, 67, 0.15);\n",
              "      fill: #174EA6;\n",
              "    }\n",
              "\n",
              "    [theme=dark] .colab-df-convert {\n",
              "      background-color: #3B4455;\n",
              "      fill: #D2E3FC;\n",
              "    }\n",
              "\n",
              "    [theme=dark] .colab-df-convert:hover {\n",
              "      background-color: #434B5C;\n",
              "      box-shadow: 0px 1px 3px 1px rgba(0, 0, 0, 0.15);\n",
              "      filter: drop-shadow(0px 1px 2px rgba(0, 0, 0, 0.3));\n",
              "      fill: #FFFFFF;\n",
              "    }\n",
              "  </style>\n",
              "\n",
              "      <script>\n",
              "        const buttonEl =\n",
              "          document.querySelector('#df-a53845a3-84d8-455f-b248-3a4b8fd7b1fb button.colab-df-convert');\n",
              "        buttonEl.style.display =\n",
              "          google.colab.kernel.accessAllowed ? 'block' : 'none';\n",
              "\n",
              "        async function convertToInteractive(key) {\n",
              "          const element = document.querySelector('#df-a53845a3-84d8-455f-b248-3a4b8fd7b1fb');\n",
              "          const dataTable =\n",
              "            await google.colab.kernel.invokeFunction('convertToInteractive',\n",
              "                                                     [key], {});\n",
              "          if (!dataTable) return;\n",
              "\n",
              "          const docLinkHtml = 'Like what you see? Visit the ' +\n",
              "            '<a target=\"_blank\" href=https://colab.research.google.com/notebooks/data_table.ipynb>data table notebook</a>'\n",
              "            + ' to learn more about interactive tables.';\n",
              "          element.innerHTML = '';\n",
              "          dataTable['output_type'] = 'display_data';\n",
              "          await google.colab.output.renderOutput(dataTable, element);\n",
              "          const docLink = document.createElement('div');\n",
              "          docLink.innerHTML = docLinkHtml;\n",
              "          element.appendChild(docLink);\n",
              "        }\n",
              "      </script>\n",
              "    </div>\n",
              "  </div>\n",
              "  "
            ]
          },
          "metadata": {},
          "execution_count": 128
        }
      ]
    },
    {
      "cell_type": "markdown",
      "source": [
        "Plot dari rata-rata setiap target berdasarkan jenis pekerjaan"
      ],
      "metadata": {
        "id": "bTdCySxDU-Xc"
      }
    },
    {
      "cell_type": "code",
      "source": [
        "pd.crosstab(data['NAME_INCOME_TYPE'], data['TARGET']).plot(kind = 'bar')\n",
        "plt.title('Income Frequency of Target')\n",
        "plt.xlabel('NAME_INCOME_TYPE')\n",
        "plt.ylabel('Mean Amount Income Total')"
      ],
      "metadata": {
        "colab": {
          "base_uri": "https://localhost:8080/",
          "height": 430
        },
        "id": "JPW_mciVRXX2",
        "outputId": "2380c2f3-0601-4fc1-fbf7-64edbf7c960d"
      },
      "execution_count": 129,
      "outputs": [
        {
          "output_type": "execute_result",
          "data": {
            "text/plain": [
              "Text(0, 0.5, 'Mean Amount Income Total')"
            ]
          },
          "metadata": {},
          "execution_count": 129
        },
        {
          "output_type": "display_data",
          "data": {
            "text/plain": [
              "<Figure size 432x288 with 1 Axes>"
            ],
            "image/png": "[encoded data removed]"
          },
          "metadata": {}
        }
      ]
    },
    {
      "cell_type": "markdown",
      "source": [
        "# **DEPENDENT - CODE GENDER**"
      ],
      "metadata": {
        "id": "VqLZmpsFVy0U"
      }
    },
    {
      "cell_type": "markdown",
      "source": [
        "jumlah banyak data dari setiap gender"
      ],
      "metadata": {
        "id": "H0q_-Fm3V_BI"
      }
    },
    {
      "cell_type": "code",
      "source": [
        "data['CODE_GENDER'].value_counts()"
      ],
      "metadata": {
        "colab": {
          "base_uri": "https://localhost:8080/"
        },
        "id": "0LSNY9BuSiO9",
        "outputId": "dd26bdd9-948b-49a6-ab8d-785b36ca817e"
      },
      "execution_count": 130,
      "outputs": [
        {
          "output_type": "execute_result",
          "data": {
            "text/plain": [
              "F      202448\n",
              "M      105059\n",
              "XNA         4\n",
              "Name: CODE_GENDER, dtype: int64"
            ]
          },
          "metadata": {},
          "execution_count": 130
        }
      ]
    },
    {
      "cell_type": "markdown",
      "source": [
        "Menghapus CODE_GENDER = XNA "
      ],
      "metadata": {
        "id": "DvA5X5bnXMzl"
      }
    },
    {
      "cell_type": "code",
      "source": [
        "data[data['CODE_GENDER'].str.contains('XNA')]\n",
        "data.replace('XNA', np.nan, inplace = True)\n",
        "data1 = data[data['CODE_GENDER'].notna()]"
      ],
      "metadata": {
        "colab": {
          "base_uri": "https://localhost:8080/"
        },
        "id": "eMxB3fF3XbC_",
        "outputId": "690a8b85-ddc5-44fa-a622-d50141559a15"
      },
      "execution_count": 131,
      "outputs": [
        {
          "output_type": "stream",
          "name": "stderr",
          "text": [
            "/usr/local/lib/python3.7/dist-packages/pandas/core/frame.py:5244: SettingWithCopyWarning: \n",
            "A value is trying to be set on a copy of a slice from a DataFrame\n",
            "\n",
            "See the caveats in the documentation: https://pandas.pydata.org/pandas-docs/stable/user_guide/indexing.html#returning-a-view-versus-a-copy\n",
            "  method=method,\n"
          ]
        }
      ]
    },
    {
      "cell_type": "markdown",
      "source": [
        "Plot dari jumlah banyak data dari setiap gender"
      ],
      "metadata": {
        "id": "l3ptnF-RWbEH"
      }
    },
    {
      "cell_type": "code",
      "source": [
        "sns.countplot(x = 'CODE_GENDER', data = data, palette = 'hls')\n",
        "plt.show()"
      ],
      "metadata": {
        "colab": {
          "base_uri": "https://localhost:8080/",
          "height": 285
        },
        "id": "FTTgTcatWJtT",
        "outputId": "ed3dc690-554a-42ec-be12-a6807528d7fc"
      },
      "execution_count": 132,
      "outputs": [
        {
          "output_type": "display_data",
          "data": {
            "text/plain": [
              "<Figure size 432x288 with 1 Axes>"
            ],
            "image/png": "[encoded data removed]"
          },
          "metadata": {}
        }
      ]
    },
    {
      "cell_type": "markdown",
      "source": [
        "Presentase dari setiap gender"
      ],
      "metadata": {
        "id": "XoY3p_wlYIZr"
      }
    },
    {
      "cell_type": "code",
      "source": [
        "count_M = len(data[data['CODE_GENDER'] == 'M'])\n",
        "count_F = len(data[data['CODE_GENDER'] == 'F'])\n",
        "\n",
        "percentage_count_M = count_M / (count_M + count_F)\n",
        "percentage_count_F = count_F / (count_M + count_F)\n",
        "\n",
        "print('percentage_count_M: ', percentage_count_M*100)\n",
        "print('percentage_count_F: ', percentage_count_F*100)"
      ],
      "metadata": {
        "colab": {
          "base_uri": "https://localhost:8080/"
        },
        "id": "ekfryOC_Wo1e",
        "outputId": "9aaa2ec4-b539-41d7-ccf5-715b36e85b50"
      },
      "execution_count": 133,
      "outputs": [
        {
          "output_type": "stream",
          "name": "stdout",
          "text": [
            "percentage_count_M:  34.16475072112179\n",
            "percentage_count_F:  65.83524927887821\n"
          ]
        }
      ]
    },
    {
      "cell_type": "markdown",
      "source": [
        "Rata-rata penghasilan dari setiap gender"
      ],
      "metadata": {
        "id": "jCVZtkUsaqdb"
      }
    },
    {
      "cell_type": "code",
      "source": [
        "data.groupby('CODE_GENDER').mean()"
      ],
      "metadata": {
        "colab": {
          "base_uri": "https://localhost:8080/",
          "height": 143
        },
        "id": "iTADD9vQYuIT",
        "outputId": "3f4c1554-496e-4333-d2d7-86b483427996"
      },
      "execution_count": 134,
      "outputs": [
        {
          "output_type": "execute_result",
          "data": {
            "text/plain": [
              "                SK_ID_CURR  AMT_INCOME_TOTAL    TARGET\n",
              "CODE_GENDER                                           \n",
              "F            278235.964094     156032.309247  0.069993\n",
              "M            278076.627828     193396.482153  0.101419"
            ],
            "text/html": [
              "\n",
              "  <div id=\"df-c52fd66c-45f3-43dd-89de-9e3cc6051bf9\">\n",
              "    <div class=\"colab-df-container\">\n",
              "      <div>\n",
              "<style scoped>\n",
              "    .dataframe tbody tr th:only-of-type {\n",
              "        vertical-align: middle;\n",
              "    }\n",
              "\n",
              "    .dataframe tbody tr th {\n",
              "        vertical-align: top;\n",
              "    }\n",
              "\n",
              "    .dataframe thead th {\n",
              "        text-align: right;\n",
              "    }\n",
              "</style>\n",
              "<table border=\"1\" class=\"dataframe\">\n",
              "  <thead>\n",
              "    <tr style=\"text-align: right;\">\n",
              "      <th></th>\n",
              "      <th>SK_ID_CURR</th>\n",
              "      <th>AMT_INCOME_TOTAL</th>\n",
              "      <th>TARGET</th>\n",
              "    </tr>\n",
              "    <tr>\n",
              "      <th>CODE_GENDER</th>\n",
              "      <th></th>\n",
              "      <th></th>\n",
              "      <th></th>\n",
              "    </tr>\n",
              "  </thead>\n",
              "  <tbody>\n",
              "    <tr>\n",
              "      <th>F</th>\n",
              "      <td>278235.964094</td>\n",
              "      <td>156032.309247</td>\n",
              "      <td>0.069993</td>\n",
              "    </tr>\n",
              "    <tr>\n",
              "      <th>M</th>\n",
              "      <td>278076.627828</td>\n",
              "      <td>193396.482153</td>\n",
              "      <td>0.101419</td>\n",
              "    </tr>\n",
              "  </tbody>\n",
              "</table>\n",
              "</div>\n",
              "      <button class=\"colab-df-convert\" onclick=\"convertToInteractive('df-c52fd66c-45f3-43dd-89de-9e3cc6051bf9')\"\n",
              "              title=\"Convert this dataframe to an interactive table.\"\n",
              "              style=\"display:none;\">\n",
              "        \n",
              "  <svg xmlns=\"http://www.w3.org/2000/svg\" height=\"24px\"viewBox=\"0 0 24 24\"\n",
              "       width=\"24px\">\n",
              "    <path d=\"M0 0h24v24H0V0z\" fill=\"none\"/>\n",
              "    <path d=\"M18.56 5.44l.94 2.06.94-2.06 2.06-.94-2.06-.94-.94-2.06-.94 2.06-2.06.94zm-11 1L8.5 8.5l.94-2.06 2.06-.94-2.06-.94L8.5 2.5l-.94 2.06-2.06.94zm10 10l.94 2.06.94-2.06 2.06-.94-2.06-.94-.94-2.06-.94 2.06-2.06.94z\"/><path d=\"M17.41 7.96l-1.37-1.37c-.4-.4-.92-.59-1.43-.59-.52 0-1.04.2-1.43.59L10.3 9.45l-7.72 7.72c-.78.78-.78 2.05 0 2.83L4 21.41c.39.39.9.59 1.41.59.51 0 1.02-.2 1.41-.59l7.78-7.78 2.81-2.81c.8-.78.8-2.07 0-2.86zM5.41 20L4 18.59l7.72-7.72 1.47 1.35L5.41 20z\"/>\n",
              "  </svg>\n",
              "      </button>\n",
              "      \n",
              "  <style>\n",
              "    .colab-df-container {\n",
              "      display:flex;\n",
              "      flex-wrap:wrap;\n",
              "      gap: 12px;\n",
              "    }\n",
              "\n",
              "    .colab-df-convert {\n",
              "      background-color: #E8F0FE;\n",
              "      border: none;\n",
              "      border-radius: 50%;\n",
              "      cursor: pointer;\n",
              "      display: none;\n",
              "      fill: #1967D2;\n",
              "      height: 32px;\n",
              "      padding: 0 0 0 0;\n",
              "      width: 32px;\n",
              "    }\n",
              "\n",
              "    .colab-df-convert:hover {\n",
              "      background-color: #E2EBFA;\n",
              "      box-shadow: 0px 1px 2px rgba(60, 64, 67, 0.3), 0px 1px 3px 1px rgba(60, 64, 67, 0.15);\n",
              "      fill: #174EA6;\n",
              "    }\n",
              "\n",
              "    [theme=dark] .colab-df-convert {\n",
              "      background-color: #3B4455;\n",
              "      fill: #D2E3FC;\n",
              "    }\n",
              "\n",
              "    [theme=dark] .colab-df-convert:hover {\n",
              "      background-color: #434B5C;\n",
              "      box-shadow: 0px 1px 3px 1px rgba(0, 0, 0, 0.15);\n",
              "      filter: drop-shadow(0px 1px 2px rgba(0, 0, 0, 0.3));\n",
              "      fill: #FFFFFF;\n",
              "    }\n",
              "  </style>\n",
              "\n",
              "      <script>\n",
              "        const buttonEl =\n",
              "          document.querySelector('#df-c52fd66c-45f3-43dd-89de-9e3cc6051bf9 button.colab-df-convert');\n",
              "        buttonEl.style.display =\n",
              "          google.colab.kernel.accessAllowed ? 'block' : 'none';\n",
              "\n",
              "        async function convertToInteractive(key) {\n",
              "          const element = document.querySelector('#df-c52fd66c-45f3-43dd-89de-9e3cc6051bf9');\n",
              "          const dataTable =\n",
              "            await google.colab.kernel.invokeFunction('convertToInteractive',\n",
              "                                                     [key], {});\n",
              "          if (!dataTable) return;\n",
              "\n",
              "          const docLinkHtml = 'Like what you see? Visit the ' +\n",
              "            '<a target=\"_blank\" href=https://colab.research.google.com/notebooks/data_table.ipynb>data table notebook</a>'\n",
              "            + ' to learn more about interactive tables.';\n",
              "          element.innerHTML = '';\n",
              "          dataTable['output_type'] = 'display_data';\n",
              "          await google.colab.output.renderOutput(dataTable, element);\n",
              "          const docLink = document.createElement('div');\n",
              "          docLink.innerHTML = docLinkHtml;\n",
              "          element.appendChild(docLink);\n",
              "        }\n",
              "      </script>\n",
              "    </div>\n",
              "  </div>\n",
              "  "
            ]
          },
          "metadata": {},
          "execution_count": 134
        }
      ]
    },
    {
      "cell_type": "markdown",
      "source": [
        "Rata-rata penghasilan dari setiap jenis pekerjaan"
      ],
      "metadata": {
        "id": "sED9E9Qca58p"
      }
    },
    {
      "cell_type": "code",
      "source": [
        "data.groupby(['NAME_INCOME_TYPE', 'CODE_GENDER']).mean()"
      ],
      "metadata": {
        "colab": {
          "base_uri": "https://localhost:8080/",
          "height": 582
        },
        "id": "rd_RDTl6a4TI",
        "outputId": "46aa3738-5821-4e4a-a9d4-25c28f88fe06"
      },
      "execution_count": 135,
      "outputs": [
        {
          "output_type": "execute_result",
          "data": {
            "text/plain": [
              "                                     SK_ID_CURR  AMT_INCOME_TOTAL    TARGET\n",
              "NAME_INCOME_TYPE     CODE_GENDER                                           \n",
              "Businessman          F            371658.333333     555000.000000  0.000000\n",
              "                     M            234142.000000     694285.714286  0.000000\n",
              "Commercial associate F            278417.612076     186271.446774  0.066668\n",
              "                     M            278127.127357     230364.454941  0.088275\n",
              "Maternity leave      F            364983.250000      85500.000000  0.500000\n",
              "                     M            156685.000000     360000.000000  0.000000\n",
              "Pensioner            F            278700.155388     133974.328769  0.049557\n",
              "                     M            277533.739432     147276.135869  0.073161\n",
              "State servant        F            279256.513812     165967.515497  0.053418\n",
              "                     M            277962.239097     217080.934918  0.068753\n",
              "Student              F            247771.142857     199928.571429  0.000000\n",
              "                     M            263437.090909     151772.727273  0.000000\n",
              "Unemployed           F            246227.235294     111017.647059  0.352941\n",
              "                     M            282410.200000     108900.000000  0.400000\n",
              "Working              F            277769.465102     150805.670362  0.083735\n",
              "                     M            278162.971786     182473.187742  0.114857"
            ],
            "text/html": [
              "\n",
              "  <div id=\"df-854779b4-00b3-4495-9362-278293268b46\">\n",
              "    <div class=\"colab-df-container\">\n",
              "      <div>\n",
              "<style scoped>\n",
              "    .dataframe tbody tr th:only-of-type {\n",
              "        vertical-align: middle;\n",
              "    }\n",
              "\n",
              "    .dataframe tbody tr th {\n",
              "        vertical-align: top;\n",
              "    }\n",
              "\n",
              "    .dataframe thead th {\n",
              "        text-align: right;\n",
              "    }\n",
              "</style>\n",
              "<table border=\"1\" class=\"dataframe\">\n",
              "  <thead>\n",
              "    <tr style=\"text-align: right;\">\n",
              "      <th></th>\n",
              "      <th></th>\n",
              "      <th>SK_ID_CURR</th>\n",
              "      <th>AMT_INCOME_TOTAL</th>\n",
              "      <th>TARGET</th>\n",
              "    </tr>\n",
              "    <tr>\n",
              "      <th>NAME_INCOME_TYPE</th>\n",
              "      <th>CODE_GENDER</th>\n",
              "      <th></th>\n",
              "      <th></th>\n",
              "      <th></th>\n",
              "    </tr>\n",
              "  </thead>\n",
              "  <tbody>\n",
              "    <tr>\n",
              "      <th rowspan=\"2\" valign=\"top\">Businessman</th>\n",
              "      <th>F</th>\n",
              "      <td>371658.333333</td>\n",
              "      <td>555000.000000</td>\n",
              "      <td>0.000000</td>\n",
              "    </tr>\n",
              "    <tr>\n",
              "      <th>M</th>\n",
              "      <td>234142.000000</td>\n",
              "      <td>694285.714286</td>\n",
              "      <td>0.000000</td>\n",
              "    </tr>\n",
              "    <tr>\n",
              "      <th rowspan=\"2\" valign=\"top\">Commercial associate</th>\n",
              "      <th>F</th>\n",
              "      <td>278417.612076</td>\n",
              "      <td>186271.446774</td>\n",
              "      <td>0.066668</td>\n",
              "    </tr>\n",
              "    <tr>\n",
              "      <th>M</th>\n",
              "      <td>278127.127357</td>\n",
              "      <td>230364.454941</td>\n",
              "      <td>0.088275</td>\n",
              "    </tr>\n",
              "    <tr>\n",
              "      <th rowspan=\"2\" valign=\"top\">Maternity leave</th>\n",
              "      <th>F</th>\n",
              "      <td>364983.250000</td>\n",
              "      <td>85500.000000</td>\n",
              "      <td>0.500000</td>\n",
              "    </tr>\n",
              "    <tr>\n",
              "      <th>M</th>\n",
              "      <td>156685.000000</td>\n",
              "      <td>360000.000000</td>\n",
              "      <td>0.000000</td>\n",
              "    </tr>\n",
              "    <tr>\n",
              "      <th rowspan=\"2\" valign=\"top\">Pensioner</th>\n",
              "      <th>F</th>\n",
              "      <td>278700.155388</td>\n",
              "      <td>133974.328769</td>\n",
              "      <td>0.049557</td>\n",
              "    </tr>\n",
              "    <tr>\n",
              "      <th>M</th>\n",
              "      <td>277533.739432</td>\n",
              "      <td>147276.135869</td>\n",
              "      <td>0.073161</td>\n",
              "    </tr>\n",
              "    <tr>\n",
              "      <th rowspan=\"2\" valign=\"top\">State servant</th>\n",
              "      <th>F</th>\n",
              "      <td>279256.513812</td>\n",
              "      <td>165967.515497</td>\n",
              "      <td>0.053418</td>\n",
              "    </tr>\n",
              "    <tr>\n",
              "      <th>M</th>\n",
              "      <td>277962.239097</td>\n",
              "      <td>217080.934918</td>\n",
              "      <td>0.068753</td>\n",
              "    </tr>\n",
              "    <tr>\n",
              "      <th rowspan=\"2\" valign=\"top\">Student</th>\n",
              "      <th>F</th>\n",
              "      <td>247771.142857</td>\n",
              "      <td>199928.571429</td>\n",
              "      <td>0.000000</td>\n",
              "    </tr>\n",
              "    <tr>\n",
              "      <th>M</th>\n",
              "      <td>263437.090909</td>\n",
              "      <td>151772.727273</td>\n",
              "      <td>0.000000</td>\n",
              "    </tr>\n",
              "    <tr>\n",
              "      <th rowspan=\"2\" valign=\"top\">Unemployed</th>\n",
              "      <th>F</th>\n",
              "      <td>246227.235294</td>\n",
              "      <td>111017.647059</td>\n",
              "      <td>0.352941</td>\n",
              "    </tr>\n",
              "    <tr>\n",
              "      <th>M</th>\n",
              "      <td>282410.200000</td>\n",
              "      <td>108900.000000</td>\n",
              "      <td>0.400000</td>\n",
              "    </tr>\n",
              "    <tr>\n",
              "      <th rowspan=\"2\" valign=\"top\">Working</th>\n",
              "      <th>F</th>\n",
              "      <td>277769.465102</td>\n",
              "      <td>150805.670362</td>\n",
              "      <td>0.083735</td>\n",
              "    </tr>\n",
              "    <tr>\n",
              "      <th>M</th>\n",
              "      <td>278162.971786</td>\n",
              "      <td>182473.187742</td>\n",
              "      <td>0.114857</td>\n",
              "    </tr>\n",
              "  </tbody>\n",
              "</table>\n",
              "</div>\n",
              "      <button class=\"colab-df-convert\" onclick=\"convertToInteractive('df-854779b4-00b3-4495-9362-278293268b46')\"\n",
              "              title=\"Convert this dataframe to an interactive table.\"\n",
              "              style=\"display:none;\">\n",
              "        \n",
              "  <svg xmlns=\"http://www.w3.org/2000/svg\" height=\"24px\"viewBox=\"0 0 24 24\"\n",
              "       width=\"24px\">\n",
              "    <path d=\"M0 0h24v24H0V0z\" fill=\"none\"/>\n",
              "    <path d=\"M18.56 5.44l.94 2.06.94-2.06 2.06-.94-2.06-.94-.94-2.06-.94 2.06-2.06.94zm-11 1L8.5 8.5l.94-2.06 2.06-.94-2.06-.94L8.5 2.5l-.94 2.06-2.06.94zm10 10l.94 2.06.94-2.06 2.06-.94-2.06-.94-.94-2.06-.94 2.06-2.06.94z\"/><path d=\"M17.41 7.96l-1.37-1.37c-.4-.4-.92-.59-1.43-.59-.52 0-1.04.2-1.43.59L10.3 9.45l-7.72 7.72c-.78.78-.78 2.05 0 2.83L4 21.41c.39.39.9.59 1.41.59.51 0 1.02-.2 1.41-.59l7.78-7.78 2.81-2.81c.8-.78.8-2.07 0-2.86zM5.41 20L4 18.59l7.72-7.72 1.47 1.35L5.41 20z\"/>\n",
              "  </svg>\n",
              "      </button>\n",
              "      \n",
              "  <style>\n",
              "    .colab-df-container {\n",
              "      display:flex;\n",
              "      flex-wrap:wrap;\n",
              "      gap: 12px;\n",
              "    }\n",
              "\n",
              "    .colab-df-convert {\n",
              "      background-color: #E8F0FE;\n",
              "      border: none;\n",
              "      border-radius: 50%;\n",
              "      cursor: pointer;\n",
              "      display: none;\n",
              "      fill: #1967D2;\n",
              "      height: 32px;\n",
              "      padding: 0 0 0 0;\n",
              "      width: 32px;\n",
              "    }\n",
              "\n",
              "    .colab-df-convert:hover {\n",
              "      background-color: #E2EBFA;\n",
              "      box-shadow: 0px 1px 2px rgba(60, 64, 67, 0.3), 0px 1px 3px 1px rgba(60, 64, 67, 0.15);\n",
              "      fill: #174EA6;\n",
              "    }\n",
              "\n",
              "    [theme=dark] .colab-df-convert {\n",
              "      background-color: #3B4455;\n",
              "      fill: #D2E3FC;\n",
              "    }\n",
              "\n",
              "    [theme=dark] .colab-df-convert:hover {\n",
              "      background-color: #434B5C;\n",
              "      box-shadow: 0px 1px 3px 1px rgba(0, 0, 0, 0.15);\n",
              "      filter: drop-shadow(0px 1px 2px rgba(0, 0, 0, 0.3));\n",
              "      fill: #FFFFFF;\n",
              "    }\n",
              "  </style>\n",
              "\n",
              "      <script>\n",
              "        const buttonEl =\n",
              "          document.querySelector('#df-854779b4-00b3-4495-9362-278293268b46 button.colab-df-convert');\n",
              "        buttonEl.style.display =\n",
              "          google.colab.kernel.accessAllowed ? 'block' : 'none';\n",
              "\n",
              "        async function convertToInteractive(key) {\n",
              "          const element = document.querySelector('#df-854779b4-00b3-4495-9362-278293268b46');\n",
              "          const dataTable =\n",
              "            await google.colab.kernel.invokeFunction('convertToInteractive',\n",
              "                                                     [key], {});\n",
              "          if (!dataTable) return;\n",
              "\n",
              "          const docLinkHtml = 'Like what you see? Visit the ' +\n",
              "            '<a target=\"_blank\" href=https://colab.research.google.com/notebooks/data_table.ipynb>data table notebook</a>'\n",
              "            + ' to learn more about interactive tables.';\n",
              "          element.innerHTML = '';\n",
              "          dataTable['output_type'] = 'display_data';\n",
              "          await google.colab.output.renderOutput(dataTable, element);\n",
              "          const docLink = document.createElement('div');\n",
              "          docLink.innerHTML = docLinkHtml;\n",
              "          element.appendChild(docLink);\n",
              "        }\n",
              "      </script>\n",
              "    </div>\n",
              "  </div>\n",
              "  "
            ]
          },
          "metadata": {},
          "execution_count": 135
        }
      ]
    },
    {
      "cell_type": "markdown",
      "source": [
        "Plot dari rata-rata penghasilan dari setiap gender berdasarkan jenis pekerjaan"
      ],
      "metadata": {
        "id": "dRbzpz-ib2wY"
      }
    },
    {
      "cell_type": "code",
      "source": [
        "pd.crosstab(data['NAME_INCOME_TYPE'], data['CODE_GENDER']).plot(kind = 'bar')\n",
        "plt.title('Income Frequency of Code Gender')\n",
        "plt.xlabel('NAME_INCOME_TYPE')\n",
        "plt.ylabel('Mean Amount Income Total')"
      ],
      "metadata": {
        "colab": {
          "base_uri": "https://localhost:8080/",
          "height": 430
        },
        "id": "3_0fN4srbF2O",
        "outputId": "be7e87eb-b945-4d7c-b45c-c67c8cdf30f1"
      },
      "execution_count": 136,
      "outputs": [
        {
          "output_type": "execute_result",
          "data": {
            "text/plain": [
              "Text(0, 0.5, 'Mean Amount Income Total')"
            ]
          },
          "metadata": {},
          "execution_count": 136
        },
        {
          "output_type": "display_data",
          "data": {
            "text/plain": [
              "<Figure size 432x288 with 1 Axes>"
            ],
            "image/png": "[encoded data removed]"
          },
          "metadata": {}
        }
      ]
    },
    {
      "cell_type": "markdown",
      "source": [
        "# **DEPENDENT = FAMILY STATUS**"
      ],
      "metadata": {
        "id": "mO5ksMb0dIRC"
      }
    },
    {
      "cell_type": "markdown",
      "source": [
        "Jumlah banyak data dari setiap family status"
      ],
      "metadata": {
        "id": "vdA7nhGmdfG1"
      }
    },
    {
      "cell_type": "code",
      "source": [
        "data['NAME_FAMILY_STATUS'].value_counts()"
      ],
      "metadata": {
        "colab": {
          "base_uri": "https://localhost:8080/"
        },
        "id": "q5i5EIi_cNr-",
        "outputId": "40c6a207-89a6-4f49-b379-9d01be9718a1"
      },
      "execution_count": 137,
      "outputs": [
        {
          "output_type": "execute_result",
          "data": {
            "text/plain": [
              "Married                 196432\n",
              "Single / not married     45444\n",
              "Civil marriage           29775\n",
              "Separated                19770\n",
              "Widow                    16088\n",
              "Unknown                      2\n",
              "Name: NAME_FAMILY_STATUS, dtype: int64"
            ]
          },
          "metadata": {},
          "execution_count": 137
        }
      ]
    },
    {
      "cell_type": "markdown",
      "source": [
        "Menghapus nilai unknown pada family status"
      ],
      "metadata": {
        "id": "JEYlDAW1dk_e"
      }
    },
    {
      "cell_type": "code",
      "source": [
        "data[data['NAME_FAMILY_STATUS'].str.contains('Unknown')]\n",
        "data.replace('Unknown', np.nan, inplace = True)\n",
        "data1 = data[data['NAME_FAMILY_STATUS'].notna()]"
      ],
      "metadata": {
        "colab": {
          "base_uri": "https://localhost:8080/"
        },
        "id": "YGZDOh7Jdpvq",
        "outputId": "041d2208-29c7-4465-f22a-0cd5e17ad990"
      },
      "execution_count": 138,
      "outputs": [
        {
          "output_type": "stream",
          "name": "stderr",
          "text": [
            "/usr/local/lib/python3.7/dist-packages/pandas/core/frame.py:5244: SettingWithCopyWarning: \n",
            "A value is trying to be set on a copy of a slice from a DataFrame\n",
            "\n",
            "See the caveats in the documentation: https://pandas.pydata.org/pandas-docs/stable/user_guide/indexing.html#returning-a-view-versus-a-copy\n",
            "  method=method,\n"
          ]
        }
      ]
    },
    {
      "cell_type": "markdown",
      "source": [
        "Plot dari jumlah data dari setiap family status"
      ],
      "metadata": {
        "id": "ThQZbUj5d-Df"
      }
    },
    {
      "cell_type": "code",
      "source": [
        "sns.countplot(x = 'NAME_FAMILY_STATUS', data = data, palette = 'hls')\n",
        "plt.show()"
      ],
      "metadata": {
        "colab": {
          "base_uri": "https://localhost:8080/",
          "height": 285
        },
        "id": "nfAlhxTGdT_o",
        "outputId": "c50035f3-61fd-48f3-a86d-c0263b6da90c"
      },
      "execution_count": 139,
      "outputs": [
        {
          "output_type": "display_data",
          "data": {
            "text/plain": [
              "<Figure size 432x288 with 1 Axes>"
            ],
            "image/png": "[encoded data removed]"
          },
          "metadata": {}
        }
      ]
    },
    {
      "cell_type": "markdown",
      "source": [
        "Rata-rata penghasilan dari setiap family status"
      ],
      "metadata": {
        "id": "GOq1u4VWeFIw"
      }
    },
    {
      "cell_type": "code",
      "source": [
        "data.groupby('NAME_FAMILY_STATUS').mean()"
      ],
      "metadata": {
        "colab": {
          "base_uri": "https://localhost:8080/",
          "height": 237
        },
        "id": "jZ6i0kMEdc3h",
        "outputId": "1c916dda-9166-4e6b-dedf-c6a3b8664a03"
      },
      "execution_count": 140,
      "outputs": [
        {
          "output_type": "execute_result",
          "data": {
            "text/plain": [
              "                         SK_ID_CURR  AMT_INCOME_TOTAL    TARGET\n",
              "NAME_FAMILY_STATUS                                             \n",
              "Civil marriage        278269.849605     167840.534651  0.099446\n",
              "Married               277874.469027     171012.354904  0.075599\n",
              "Separated             278947.553111     171231.793475  0.081942\n",
              "Single / not married  279023.364735     167919.870329  0.098077\n",
              "Widow                 278434.253978     143001.647132  0.058242"
            ],
            "text/html": [
              "\n",
              "  <div id=\"df-523dc10e-62ee-4061-9b44-2e382b17d910\">\n",
              "    <div class=\"colab-df-container\">\n",
              "      <div>\n",
              "<style scoped>\n",
              "    .dataframe tbody tr th:only-of-type {\n",
              "        vertical-align: middle;\n",
              "    }\n",
              "\n",
              "    .dataframe tbody tr th {\n",
              "        vertical-align: top;\n",
              "    }\n",
              "\n",
              "    .dataframe thead th {\n",
              "        text-align: right;\n",
              "    }\n",
              "</style>\n",
              "<table border=\"1\" class=\"dataframe\">\n",
              "  <thead>\n",
              "    <tr style=\"text-align: right;\">\n",
              "      <th></th>\n",
              "      <th>SK_ID_CURR</th>\n",
              "      <th>AMT_INCOME_TOTAL</th>\n",
              "      <th>TARGET</th>\n",
              "    </tr>\n",
              "    <tr>\n",
              "      <th>NAME_FAMILY_STATUS</th>\n",
              "      <th></th>\n",
              "      <th></th>\n",
              "      <th></th>\n",
              "    </tr>\n",
              "  </thead>\n",
              "  <tbody>\n",
              "    <tr>\n",
              "      <th>Civil marriage</th>\n",
              "      <td>278269.849605</td>\n",
              "      <td>167840.534651</td>\n",
              "      <td>0.099446</td>\n",
              "    </tr>\n",
              "    <tr>\n",
              "      <th>Married</th>\n",
              "      <td>277874.469027</td>\n",
              "      <td>171012.354904</td>\n",
              "      <td>0.075599</td>\n",
              "    </tr>\n",
              "    <tr>\n",
              "      <th>Separated</th>\n",
              "      <td>278947.553111</td>\n",
              "      <td>171231.793475</td>\n",
              "      <td>0.081942</td>\n",
              "    </tr>\n",
              "    <tr>\n",
              "      <th>Single / not married</th>\n",
              "      <td>279023.364735</td>\n",
              "      <td>167919.870329</td>\n",
              "      <td>0.098077</td>\n",
              "    </tr>\n",
              "    <tr>\n",
              "      <th>Widow</th>\n",
              "      <td>278434.253978</td>\n",
              "      <td>143001.647132</td>\n",
              "      <td>0.058242</td>\n",
              "    </tr>\n",
              "  </tbody>\n",
              "</table>\n",
              "</div>\n",
              "      <button class=\"colab-df-convert\" onclick=\"convertToInteractive('df-523dc10e-62ee-4061-9b44-2e382b17d910')\"\n",
              "              title=\"Convert this dataframe to an interactive table.\"\n",
              "              style=\"display:none;\">\n",
              "        \n",
              "  <svg xmlns=\"http://www.w3.org/2000/svg\" height=\"24px\"viewBox=\"0 0 24 24\"\n",
              "       width=\"24px\">\n",
              "    <path d=\"M0 0h24v24H0V0z\" fill=\"none\"/>\n",
              "    <path d=\"M18.56 5.44l.94 2.06.94-2.06 2.06-.94-2.06-.94-.94-2.06-.94 2.06-2.06.94zm-11 1L8.5 8.5l.94-2.06 2.06-.94-2.06-.94L8.5 2.5l-.94 2.06-2.06.94zm10 10l.94 2.06.94-2.06 2.06-.94-2.06-.94-.94-2.06-.94 2.06-2.06.94z\"/><path d=\"M17.41 7.96l-1.37-1.37c-.4-.4-.92-.59-1.43-.59-.52 0-1.04.2-1.43.59L10.3 9.45l-7.72 7.72c-.78.78-.78 2.05 0 2.83L4 21.41c.39.39.9.59 1.41.59.51 0 1.02-.2 1.41-.59l7.78-7.78 2.81-2.81c.8-.78.8-2.07 0-2.86zM5.41 20L4 18.59l7.72-7.72 1.47 1.35L5.41 20z\"/>\n",
              "  </svg>\n",
              "      </button>\n",
              "      \n",
              "  <style>\n",
              "    .colab-df-container {\n",
              "      display:flex;\n",
              "      flex-wrap:wrap;\n",
              "      gap: 12px;\n",
              "    }\n",
              "\n",
              "    .colab-df-convert {\n",
              "      background-color: #E8F0FE;\n",
              "      border: none;\n",
              "      border-radius: 50%;\n",
              "      cursor: pointer;\n",
              "      display: none;\n",
              "      fill: #1967D2;\n",
              "      height: 32px;\n",
              "      padding: 0 0 0 0;\n",
              "      width: 32px;\n",
              "    }\n",
              "\n",
              "    .colab-df-convert:hover {\n",
              "      background-color: #E2EBFA;\n",
              "      box-shadow: 0px 1px 2px rgba(60, 64, 67, 0.3), 0px 1px 3px 1px rgba(60, 64, 67, 0.15);\n",
              "      fill: #174EA6;\n",
              "    }\n",
              "\n",
              "    [theme=dark] .colab-df-convert {\n",
              "      background-color: #3B4455;\n",
              "      fill: #D2E3FC;\n",
              "    }\n",
              "\n",
              "    [theme=dark] .colab-df-convert:hover {\n",
              "      background-color: #434B5C;\n",
              "      box-shadow: 0px 1px 3px 1px rgba(0, 0, 0, 0.15);\n",
              "      filter: drop-shadow(0px 1px 2px rgba(0, 0, 0, 0.3));\n",
              "      fill: #FFFFFF;\n",
              "    }\n",
              "  </style>\n",
              "\n",
              "      <script>\n",
              "        const buttonEl =\n",
              "          document.querySelector('#df-523dc10e-62ee-4061-9b44-2e382b17d910 button.colab-df-convert');\n",
              "        buttonEl.style.display =\n",
              "          google.colab.kernel.accessAllowed ? 'block' : 'none';\n",
              "\n",
              "        async function convertToInteractive(key) {\n",
              "          const element = document.querySelector('#df-523dc10e-62ee-4061-9b44-2e382b17d910');\n",
              "          const dataTable =\n",
              "            await google.colab.kernel.invokeFunction('convertToInteractive',\n",
              "                                                     [key], {});\n",
              "          if (!dataTable) return;\n",
              "\n",
              "          const docLinkHtml = 'Like what you see? Visit the ' +\n",
              "            '<a target=\"_blank\" href=https://colab.research.google.com/notebooks/data_table.ipynb>data table notebook</a>'\n",
              "            + ' to learn more about interactive tables.';\n",
              "          element.innerHTML = '';\n",
              "          dataTable['output_type'] = 'display_data';\n",
              "          await google.colab.output.renderOutput(dataTable, element);\n",
              "          const docLink = document.createElement('div');\n",
              "          docLink.innerHTML = docLinkHtml;\n",
              "          element.appendChild(docLink);\n",
              "        }\n",
              "      </script>\n",
              "    </div>\n",
              "  </div>\n",
              "  "
            ]
          },
          "metadata": {},
          "execution_count": 140
        }
      ]
    },
    {
      "cell_type": "markdown",
      "source": [
        "Rata-rata penghasilan dari setiap family status berdasarkan jenis pekerjaan"
      ],
      "metadata": {
        "id": "Ha2pZ1ikesuA"
      }
    },
    {
      "cell_type": "code",
      "source": [
        "data.groupby(['NAME_INCOME_TYPE', 'NAME_FAMILY_STATUS']).mean()"
      ],
      "metadata": {
        "colab": {
          "base_uri": "https://localhost:8080/",
          "height": 1000
        },
        "id": "1zL-CFnwePJW",
        "outputId": "e6dafc03-2b62-45de-ce1a-e9003752dac5"
      },
      "execution_count": 141,
      "outputs": [
        {
          "output_type": "execute_result",
          "data": {
            "text/plain": [
              "                                              SK_ID_CURR  AMT_INCOME_TOTAL  \\\n",
              "NAME_INCOME_TYPE     NAME_FAMILY_STATUS                                      \n",
              "Businessman          Civil marriage        372723.000000     540000.000000   \n",
              "                     Married               260948.285714     630000.000000   \n",
              "                     Single / not married  277304.000000     787500.000000   \n",
              "Commercial associate Civil marriage        277361.763250     197099.185801   \n",
              "                     Married               278207.875201     205804.012558   \n",
              "                     Separated             278543.773859     204642.310447   \n",
              "                     Single / not married  279346.986353     196962.250598   \n",
              "                     Widow                 277197.308869     191361.961651   \n",
              "Maternity leave      Married               323323.600000     140400.000000   \n",
              "Pensioner            Civil marriage        280375.258317     141889.125105   \n",
              "                     Married               277173.649411     137725.115978   \n",
              "                     Separated             281706.543357     141278.708831   \n",
              "                     Single / not married  280799.011757     136413.559193   \n",
              "                     Widow                 279517.293635     127750.405082   \n",
              "State servant        Civil marriage        279784.878077     178487.426102   \n",
              "                     Married               278454.978097     178703.791807   \n",
              "                     Separated             278142.712711     186921.029758   \n",
              "                     Single / not married  281019.086535     183459.527289   \n",
              "                     Widow                 279584.951289     176403.455587   \n",
              "Student              Civil marriage        286391.250000     132750.000000   \n",
              "                     Married               233674.000000     154500.000000   \n",
              "                     Separated             331123.000000     562500.000000   \n",
              "                     Single / not married  263113.000000     146250.000000   \n",
              "Unemployed           Civil marriage        268748.333333     102000.000000   \n",
              "                     Married               313097.600000      83250.000000   \n",
              "                     Separated             336749.000000      54000.000000   \n",
              "                     Single / not married  157665.200000     195750.000000   \n",
              "                     Widow                 178539.333333      86850.000000   \n",
              "Working              Civil marriage        278074.436865     158777.087678   \n",
              "                     Married               277862.678717     165022.337556   \n",
              "                     Separated             278196.310922     165265.111595   \n",
              "                     Single / not married  278211.472187     159396.111362   \n",
              "                     Widow                 276458.739309     152337.635605   \n",
              "\n",
              "                                             TARGET  \n",
              "NAME_INCOME_TYPE     NAME_FAMILY_STATUS              \n",
              "Businessman          Civil marriage        0.000000  \n",
              "                     Married               0.000000  \n",
              "                     Single / not married  0.000000  \n",
              "Commercial associate Civil marriage        0.088376  \n",
              "                     Married               0.069204  \n",
              "                     Separated             0.073397  \n",
              "                     Single / not married  0.090463  \n",
              "                     Widow                 0.055046  \n",
              "Maternity leave      Married               0.400000  \n",
              "Pensioner            Civil marriage        0.063461  \n",
              "                     Married               0.050906  \n",
              "                     Separated             0.060461  \n",
              "                     Single / not married  0.055029  \n",
              "                     Widow                 0.057042  \n",
              "State servant        Civil marriage        0.076131  \n",
              "                     Married               0.054129  \n",
              "                     Separated             0.054372  \n",
              "                     Single / not married  0.067864  \n",
              "                     Widow                 0.050143  \n",
              "Student              Civil marriage        0.000000  \n",
              "                     Married               0.000000  \n",
              "                     Separated             0.000000  \n",
              "                     Single / not married  0.000000  \n",
              "Unemployed           Civil marriage        0.000000  \n",
              "                     Married               0.600000  \n",
              "                     Separated             0.000000  \n",
              "                     Single / not married  0.200000  \n",
              "                     Widow                 0.333333  \n",
              "Working              Civil marriage        0.114732  \n",
              "                     Married               0.089274  \n",
              "                     Separated             0.097534  \n",
              "                     Single / not married  0.116235  \n",
              "                     Widow                 0.063115  "
            ],
            "text/html": [
              "\n",
              "  <div id=\"df-d2973dd6-b892-4591-9cc5-8420cb44e13f\">\n",
              "    <div class=\"colab-df-container\">\n",
              "      <div>\n",
              "<style scoped>\n",
              "    .dataframe tbody tr th:only-of-type {\n",
              "        vertical-align: middle;\n",
              "    }\n",
              "\n",
              "    .dataframe tbody tr th {\n",
              "        vertical-align: top;\n",
              "    }\n",
              "\n",
              "    .dataframe thead th {\n",
              "        text-align: right;\n",
              "    }\n",
              "</style>\n",
              "<table border=\"1\" class=\"dataframe\">\n",
              "  <thead>\n",
              "    <tr style=\"text-align: right;\">\n",
              "      <th></th>\n",
              "      <th></th>\n",
              "      <th>SK_ID_CURR</th>\n",
              "      <th>AMT_INCOME_TOTAL</th>\n",
              "      <th>TARGET</th>\n",
              "    </tr>\n",
              "    <tr>\n",
              "      <th>NAME_INCOME_TYPE</th>\n",
              "      <th>NAME_FAMILY_STATUS</th>\n",
              "      <th></th>\n",
              "      <th></th>\n",
              "      <th></th>\n",
              "    </tr>\n",
              "  </thead>\n",
              "  <tbody>\n",
              "    <tr>\n",
              "      <th rowspan=\"3\" valign=\"top\">Businessman</th>\n",
              "      <th>Civil marriage</th>\n",
              "      <td>372723.000000</td>\n",
              "      <td>540000.000000</td>\n",
              "      <td>0.000000</td>\n",
              "    </tr>\n",
              "    <tr>\n",
              "      <th>Married</th>\n",
              "      <td>260948.285714</td>\n",
              "      <td>630000.000000</td>\n",
              "      <td>0.000000</td>\n",
              "    </tr>\n",
              "    <tr>\n",
              "      <th>Single / not married</th>\n",
              "      <td>277304.000000</td>\n",
              "      <td>787500.000000</td>\n",
              "      <td>0.000000</td>\n",
              "    </tr>\n",
              "    <tr>\n",
              "      <th rowspan=\"5\" valign=\"top\">Commercial associate</th>\n",
              "      <th>Civil marriage</th>\n",
              "      <td>277361.763250</td>\n",
              "      <td>197099.185801</td>\n",
              "      <td>0.088376</td>\n",
              "    </tr>\n",
              "    <tr>\n",
              "      <th>Married</th>\n",
              "      <td>278207.875201</td>\n",
              "      <td>205804.012558</td>\n",
              "      <td>0.069204</td>\n",
              "    </tr>\n",
              "    <tr>\n",
              "      <th>Separated</th>\n",
              "      <td>278543.773859</td>\n",
              "      <td>204642.310447</td>\n",
              "      <td>0.073397</td>\n",
              "    </tr>\n",
              "    <tr>\n",
              "      <th>Single / not married</th>\n",
              "      <td>279346.986353</td>\n",
              "      <td>196962.250598</td>\n",
              "      <td>0.090463</td>\n",
              "    </tr>\n",
              "    <tr>\n",
              "      <th>Widow</th>\n",
              "      <td>277197.308869</td>\n",
              "      <td>191361.961651</td>\n",
              "      <td>0.055046</td>\n",
              "    </tr>\n",
              "    <tr>\n",
              "      <th>Maternity leave</th>\n",
              "      <th>Married</th>\n",
              "      <td>323323.600000</td>\n",
              "      <td>140400.000000</td>\n",
              "      <td>0.400000</td>\n",
              "    </tr>\n",
              "    <tr>\n",
              "      <th rowspan=\"5\" valign=\"top\">Pensioner</th>\n",
              "      <th>Civil marriage</th>\n",
              "      <td>280375.258317</td>\n",
              "      <td>141889.125105</td>\n",
              "      <td>0.063461</td>\n",
              "    </tr>\n",
              "    <tr>\n",
              "      <th>Married</th>\n",
              "      <td>277173.649411</td>\n",
              "      <td>137725.115978</td>\n",
              "      <td>0.050906</td>\n",
              "    </tr>\n",
              "    <tr>\n",
              "      <th>Separated</th>\n",
              "      <td>281706.543357</td>\n",
              "      <td>141278.708831</td>\n",
              "      <td>0.060461</td>\n",
              "    </tr>\n",
              "    <tr>\n",
              "      <th>Single / not married</th>\n",
              "      <td>280799.011757</td>\n",
              "      <td>136413.559193</td>\n",
              "      <td>0.055029</td>\n",
              "    </tr>\n",
              "    <tr>\n",
              "      <th>Widow</th>\n",
              "      <td>279517.293635</td>\n",
              "      <td>127750.405082</td>\n",
              "      <td>0.057042</td>\n",
              "    </tr>\n",
              "    <tr>\n",
              "      <th rowspan=\"5\" valign=\"top\">State servant</th>\n",
              "      <th>Civil marriage</th>\n",
              "      <td>279784.878077</td>\n",
              "      <td>178487.426102</td>\n",
              "      <td>0.076131</td>\n",
              "    </tr>\n",
              "    <tr>\n",
              "      <th>Married</th>\n",
              "      <td>278454.978097</td>\n",
              "      <td>178703.791807</td>\n",
              "      <td>0.054129</td>\n",
              "    </tr>\n",
              "    <tr>\n",
              "      <th>Separated</th>\n",
              "      <td>278142.712711</td>\n",
              "      <td>186921.029758</td>\n",
              "      <td>0.054372</td>\n",
              "    </tr>\n",
              "    <tr>\n",
              "      <th>Single / not married</th>\n",
              "      <td>281019.086535</td>\n",
              "      <td>183459.527289</td>\n",
              "      <td>0.067864</td>\n",
              "    </tr>\n",
              "    <tr>\n",
              "      <th>Widow</th>\n",
              "      <td>279584.951289</td>\n",
              "      <td>176403.455587</td>\n",
              "      <td>0.050143</td>\n",
              "    </tr>\n",
              "    <tr>\n",
              "      <th rowspan=\"4\" valign=\"top\">Student</th>\n",
              "      <th>Civil marriage</th>\n",
              "      <td>286391.250000</td>\n",
              "      <td>132750.000000</td>\n",
              "      <td>0.000000</td>\n",
              "    </tr>\n",
              "    <tr>\n",
              "      <th>Married</th>\n",
              "      <td>233674.000000</td>\n",
              "      <td>154500.000000</td>\n",
              "      <td>0.000000</td>\n",
              "    </tr>\n",
              "    <tr>\n",
              "      <th>Separated</th>\n",
              "      <td>331123.000000</td>\n",
              "      <td>562500.000000</td>\n",
              "      <td>0.000000</td>\n",
              "    </tr>\n",
              "    <tr>\n",
              "      <th>Single / not married</th>\n",
              "      <td>263113.000000</td>\n",
              "      <td>146250.000000</td>\n",
              "      <td>0.000000</td>\n",
              "    </tr>\n",
              "    <tr>\n",
              "      <th rowspan=\"5\" valign=\"top\">Unemployed</th>\n",
              "      <th>Civil marriage</th>\n",
              "      <td>268748.333333</td>\n",
              "      <td>102000.000000</td>\n",
              "      <td>0.000000</td>\n",
              "    </tr>\n",
              "    <tr>\n",
              "      <th>Married</th>\n",
              "      <td>313097.600000</td>\n",
              "      <td>83250.000000</td>\n",
              "      <td>0.600000</td>\n",
              "    </tr>\n",
              "    <tr>\n",
              "      <th>Separated</th>\n",
              "      <td>336749.000000</td>\n",
              "      <td>54000.000000</td>\n",
              "      <td>0.000000</td>\n",
              "    </tr>\n",
              "    <tr>\n",
              "      <th>Single / not married</th>\n",
              "      <td>157665.200000</td>\n",
              "      <td>195750.000000</td>\n",
              "      <td>0.200000</td>\n",
              "    </tr>\n",
              "    <tr>\n",
              "      <th>Widow</th>\n",
              "      <td>178539.333333</td>\n",
              "      <td>86850.000000</td>\n",
              "      <td>0.333333</td>\n",
              "    </tr>\n",
              "    <tr>\n",
              "      <th rowspan=\"5\" valign=\"top\">Working</th>\n",
              "      <th>Civil marriage</th>\n",
              "      <td>278074.436865</td>\n",
              "      <td>158777.087678</td>\n",
              "      <td>0.114732</td>\n",
              "    </tr>\n",
              "    <tr>\n",
              "      <th>Married</th>\n",
              "      <td>277862.678717</td>\n",
              "      <td>165022.337556</td>\n",
              "      <td>0.089274</td>\n",
              "    </tr>\n",
              "    <tr>\n",
              "      <th>Separated</th>\n",
              "      <td>278196.310922</td>\n",
              "      <td>165265.111595</td>\n",
              "      <td>0.097534</td>\n",
              "    </tr>\n",
              "    <tr>\n",
              "      <th>Single / not married</th>\n",
              "      <td>278211.472187</td>\n",
              "      <td>159396.111362</td>\n",
              "      <td>0.116235</td>\n",
              "    </tr>\n",
              "    <tr>\n",
              "      <th>Widow</th>\n",
              "      <td>276458.739309</td>\n",
              "      <td>152337.635605</td>\n",
              "      <td>0.063115</td>\n",
              "    </tr>\n",
              "  </tbody>\n",
              "</table>\n",
              "</div>\n",
              "      <button class=\"colab-df-convert\" onclick=\"convertToInteractive('df-d2973dd6-b892-4591-9cc5-8420cb44e13f')\"\n",
              "              title=\"Convert this dataframe to an interactive table.\"\n",
              "              style=\"display:none;\">\n",
              "        \n",
              "  <svg xmlns=\"http://www.w3.org/2000/svg\" height=\"24px\"viewBox=\"0 0 24 24\"\n",
              "       width=\"24px\">\n",
              "    <path d=\"M0 0h24v24H0V0z\" fill=\"none\"/>\n",
              "    <path d=\"M18.56 5.44l.94 2.06.94-2.06 2.06-.94-2.06-.94-.94-2.06-.94 2.06-2.06.94zm-11 1L8.5 8.5l.94-2.06 2.06-.94-2.06-.94L8.5 2.5l-.94 2.06-2.06.94zm10 10l.94 2.06.94-2.06 2.06-.94-2.06-.94-.94-2.06-.94 2.06-2.06.94z\"/><path d=\"M17.41 7.96l-1.37-1.37c-.4-.4-.92-.59-1.43-.59-.52 0-1.04.2-1.43.59L10.3 9.45l-7.72 7.72c-.78.78-.78 2.05 0 2.83L4 21.41c.39.39.9.59 1.41.59.51 0 1.02-.2 1.41-.59l7.78-7.78 2.81-2.81c.8-.78.8-2.07 0-2.86zM5.41 20L4 18.59l7.72-7.72 1.47 1.35L5.41 20z\"/>\n",
              "  </svg>\n",
              "      </button>\n",
              "      \n",
              "  <style>\n",
              "    .colab-df-container {\n",
              "      display:flex;\n",
              "      flex-wrap:wrap;\n",
              "      gap: 12px;\n",
              "    }\n",
              "\n",
              "    .colab-df-convert {\n",
              "      background-color: #E8F0FE;\n",
              "      border: none;\n",
              "      border-radius: 50%;\n",
              "      cursor: pointer;\n",
              "      display: none;\n",
              "      fill: #1967D2;\n",
              "      height: 32px;\n",
              "      padding: 0 0 0 0;\n",
              "      width: 32px;\n",
              "    }\n",
              "\n",
              "    .colab-df-convert:hover {\n",
              "      background-color: #E2EBFA;\n",
              "      box-shadow: 0px 1px 2px rgba(60, 64, 67, 0.3), 0px 1px 3px 1px rgba(60, 64, 67, 0.15);\n",
              "      fill: #174EA6;\n",
              "    }\n",
              "\n",
              "    [theme=dark] .colab-df-convert {\n",
              "      background-color: #3B4455;\n",
              "      fill: #D2E3FC;\n",
              "    }\n",
              "\n",
              "    [theme=dark] .colab-df-convert:hover {\n",
              "      background-color: #434B5C;\n",
              "      box-shadow: 0px 1px 3px 1px rgba(0, 0, 0, 0.15);\n",
              "      filter: drop-shadow(0px 1px 2px rgba(0, 0, 0, 0.3));\n",
              "      fill: #FFFFFF;\n",
              "    }\n",
              "  </style>\n",
              "\n",
              "      <script>\n",
              "        const buttonEl =\n",
              "          document.querySelector('#df-d2973dd6-b892-4591-9cc5-8420cb44e13f button.colab-df-convert');\n",
              "        buttonEl.style.display =\n",
              "          google.colab.kernel.accessAllowed ? 'block' : 'none';\n",
              "\n",
              "        async function convertToInteractive(key) {\n",
              "          const element = document.querySelector('#df-d2973dd6-b892-4591-9cc5-8420cb44e13f');\n",
              "          const dataTable =\n",
              "            await google.colab.kernel.invokeFunction('convertToInteractive',\n",
              "                                                     [key], {});\n",
              "          if (!dataTable) return;\n",
              "\n",
              "          const docLinkHtml = 'Like what you see? Visit the ' +\n",
              "            '<a target=\"_blank\" href=https://colab.research.google.com/notebooks/data_table.ipynb>data table notebook</a>'\n",
              "            + ' to learn more about interactive tables.';\n",
              "          element.innerHTML = '';\n",
              "          dataTable['output_type'] = 'display_data';\n",
              "          await google.colab.output.renderOutput(dataTable, element);\n",
              "          const docLink = document.createElement('div');\n",
              "          docLink.innerHTML = docLinkHtml;\n",
              "          element.appendChild(docLink);\n",
              "        }\n",
              "      </script>\n",
              "    </div>\n",
              "  </div>\n",
              "  "
            ]
          },
          "metadata": {},
          "execution_count": 141
        }
      ]
    },
    {
      "cell_type": "code",
      "source": [
        "pd.crosstab(data['NAME_INCOME_TYPE'], data['NAME_FAMILY_STATUS']).plot(kind = 'bar')\n",
        "plt.title('Income Frequency of Family Status')\n",
        "plt.xlabel('NAME_FAMILY_STATUS')\n",
        "plt.ylabel('Mean Amount Income Total')"
      ],
      "metadata": {
        "colab": {
          "base_uri": "https://localhost:8080/",
          "height": 430
        },
        "id": "CNeNf0_xeqew",
        "outputId": "de045ec4-b051-48d0-83bd-098e4b5ea5d9"
      },
      "execution_count": 142,
      "outputs": [
        {
          "output_type": "execute_result",
          "data": {
            "text/plain": [
              "Text(0, 0.5, 'Mean Amount Income Total')"
            ]
          },
          "metadata": {},
          "execution_count": 142
        },
        {
          "output_type": "display_data",
          "data": {
            "text/plain": [
              "<Figure size 432x288 with 1 Axes>"
            ],
            "image/png": "[encoded data removed]"
          },
          "metadata": {}
        }
      ]
    },
    {
      "cell_type": "markdown",
      "source": [
        "# **DEPENDENT = HOUSING TYPE**"
      ],
      "metadata": {
        "id": "qxDDJco_i148"
      }
    },
    {
      "cell_type": "markdown",
      "source": [
        "Jumlah banyak data dari setiap housing type"
      ],
      "metadata": {
        "id": "zwL16xhji6w-"
      }
    },
    {
      "cell_type": "code",
      "source": [
        "data['NAME_HOUSING_TYPE'].value_counts()"
      ],
      "metadata": {
        "colab": {
          "base_uri": "https://localhost:8080/"
        },
        "id": "cjtdee_ifFnP",
        "outputId": "024f7c71-ab55-4a63-895b-346779dbba13"
      },
      "execution_count": 143,
      "outputs": [
        {
          "output_type": "execute_result",
          "data": {
            "text/plain": [
              "House / apartment      272868\n",
              "With parents            14840\n",
              "Municipal apartment     11183\n",
              "Rented apartment         4881\n",
              "Office apartment         2617\n",
              "Co-op apartment          1122\n",
              "Name: NAME_HOUSING_TYPE, dtype: int64"
            ]
          },
          "metadata": {},
          "execution_count": 143
        }
      ]
    },
    {
      "cell_type": "markdown",
      "source": [
        "Plot dari jumlah banyak data dari setiap housing type"
      ],
      "metadata": {
        "id": "wdqM-NVbjWPW"
      }
    },
    {
      "cell_type": "code",
      "source": [
        "sns.countplot(x = 'NAME_HOUSING_TYPE', data = data, palette = 'hls')\n",
        "plt.show()"
      ],
      "metadata": {
        "colab": {
          "base_uri": "https://localhost:8080/",
          "height": 285
        },
        "id": "QUZlWEyEjDg1",
        "outputId": "325aee59-74bf-46b4-a0b4-a44b884caa95"
      },
      "execution_count": 144,
      "outputs": [
        {
          "output_type": "display_data",
          "data": {
            "text/plain": [
              "<Figure size 432x288 with 1 Axes>"
            ],
            "image/png": "[encoded data removed]"
          },
          "metadata": {}
        }
      ]
    },
    {
      "cell_type": "markdown",
      "source": [
        "Rata-rata penghasilan dari setiap housing type"
      ],
      "metadata": {
        "id": "xO_afJjDjqYf"
      }
    },
    {
      "cell_type": "code",
      "source": [
        "data.groupby('NAME_HOUSING_TYPE').mean()"
      ],
      "metadata": {
        "colab": {
          "base_uri": "https://localhost:8080/",
          "height": 269
        },
        "id": "aaOl2p1sjdkA",
        "outputId": "a447bbf7-60d8-4b5f-a7b8-116f40825da0"
      },
      "execution_count": 145,
      "outputs": [
        {
          "output_type": "execute_result",
          "data": {
            "text/plain": [
              "                        SK_ID_CURR  AMT_INCOME_TOTAL    TARGET\n",
              "NAME_HOUSING_TYPE                                             \n",
              "Co-op apartment      278765.719251     167651.322193  0.079323\n",
              "House / apartment    278111.896254     169227.717311  0.077957\n",
              "Municipal apartment  277890.198694     168002.934007  0.085397\n",
              "Office apartment     278482.433703     187906.542988  0.065724\n",
              "Rented apartment     281031.256915     167460.213891  0.123131\n",
              "With parents         278625.958086     158651.069555  0.116981"
            ],
            "text/html": [
              "\n",
              "  <div id=\"df-97d80c74-78dc-489a-91de-ac3d470e80dd\">\n",
              "    <div class=\"colab-df-container\">\n",
              "      <div>\n",
              "<style scoped>\n",
              "    .dataframe tbody tr th:only-of-type {\n",
              "        vertical-align: middle;\n",
              "    }\n",
              "\n",
              "    .dataframe tbody tr th {\n",
              "        vertical-align: top;\n",
              "    }\n",
              "\n",
              "    .dataframe thead th {\n",
              "        text-align: right;\n",
              "    }\n",
              "</style>\n",
              "<table border=\"1\" class=\"dataframe\">\n",
              "  <thead>\n",
              "    <tr style=\"text-align: right;\">\n",
              "      <th></th>\n",
              "      <th>SK_ID_CURR</th>\n",
              "      <th>AMT_INCOME_TOTAL</th>\n",
              "      <th>TARGET</th>\n",
              "    </tr>\n",
              "    <tr>\n",
              "      <th>NAME_HOUSING_TYPE</th>\n",
              "      <th></th>\n",
              "      <th></th>\n",
              "      <th></th>\n",
              "    </tr>\n",
              "  </thead>\n",
              "  <tbody>\n",
              "    <tr>\n",
              "      <th>Co-op apartment</th>\n",
              "      <td>278765.719251</td>\n",
              "      <td>167651.322193</td>\n",
              "      <td>0.079323</td>\n",
              "    </tr>\n",
              "    <tr>\n",
              "      <th>House / apartment</th>\n",
              "      <td>278111.896254</td>\n",
              "      <td>169227.717311</td>\n",
              "      <td>0.077957</td>\n",
              "    </tr>\n",
              "    <tr>\n",
              "      <th>Municipal apartment</th>\n",
              "      <td>277890.198694</td>\n",
              "      <td>168002.934007</td>\n",
              "      <td>0.085397</td>\n",
              "    </tr>\n",
              "    <tr>\n",
              "      <th>Office apartment</th>\n",
              "      <td>278482.433703</td>\n",
              "      <td>187906.542988</td>\n",
              "      <td>0.065724</td>\n",
              "    </tr>\n",
              "    <tr>\n",
              "      <th>Rented apartment</th>\n",
              "      <td>281031.256915</td>\n",
              "      <td>167460.213891</td>\n",
              "      <td>0.123131</td>\n",
              "    </tr>\n",
              "    <tr>\n",
              "      <th>With parents</th>\n",
              "      <td>278625.958086</td>\n",
              "      <td>158651.069555</td>\n",
              "      <td>0.116981</td>\n",
              "    </tr>\n",
              "  </tbody>\n",
              "</table>\n",
              "</div>\n",
              "      <button class=\"colab-df-convert\" onclick=\"convertToInteractive('df-97d80c74-78dc-489a-91de-ac3d470e80dd')\"\n",
              "              title=\"Convert this dataframe to an interactive table.\"\n",
              "              style=\"display:none;\">\n",
              "        \n",
              "  <svg xmlns=\"http://www.w3.org/2000/svg\" height=\"24px\"viewBox=\"0 0 24 24\"\n",
              "       width=\"24px\">\n",
              "    <path d=\"M0 0h24v24H0V0z\" fill=\"none\"/>\n",
              "    <path d=\"M18.56 5.44l.94 2.06.94-2.06 2.06-.94-2.06-.94-.94-2.06-.94 2.06-2.06.94zm-11 1L8.5 8.5l.94-2.06 2.06-.94-2.06-.94L8.5 2.5l-.94 2.06-2.06.94zm10 10l.94 2.06.94-2.06 2.06-.94-2.06-.94-.94-2.06-.94 2.06-2.06.94z\"/><path d=\"M17.41 7.96l-1.37-1.37c-.4-.4-.92-.59-1.43-.59-.52 0-1.04.2-1.43.59L10.3 9.45l-7.72 7.72c-.78.78-.78 2.05 0 2.83L4 21.41c.39.39.9.59 1.41.59.51 0 1.02-.2 1.41-.59l7.78-7.78 2.81-2.81c.8-.78.8-2.07 0-2.86zM5.41 20L4 18.59l7.72-7.72 1.47 1.35L5.41 20z\"/>\n",
              "  </svg>\n",
              "      </button>\n",
              "      \n",
              "  <style>\n",
              "    .colab-df-container {\n",
              "      display:flex;\n",
              "      flex-wrap:wrap;\n",
              "      gap: 12px;\n",
              "    }\n",
              "\n",
              "    .colab-df-convert {\n",
              "      background-color: #E8F0FE;\n",
              "      border: none;\n",
              "      border-radius: 50%;\n",
              "      cursor: pointer;\n",
              "      display: none;\n",
              "      fill: #1967D2;\n",
              "      height: 32px;\n",
              "      padding: 0 0 0 0;\n",
              "      width: 32px;\n",
              "    }\n",
              "\n",
              "    .colab-df-convert:hover {\n",
              "      background-color: #E2EBFA;\n",
              "      box-shadow: 0px 1px 2px rgba(60, 64, 67, 0.3), 0px 1px 3px 1px rgba(60, 64, 67, 0.15);\n",
              "      fill: #174EA6;\n",
              "    }\n",
              "\n",
              "    [theme=dark] .colab-df-convert {\n",
              "      background-color: #3B4455;\n",
              "      fill: #D2E3FC;\n",
              "    }\n",
              "\n",
              "    [theme=dark] .colab-df-convert:hover {\n",
              "      background-color: #434B5C;\n",
              "      box-shadow: 0px 1px 3px 1px rgba(0, 0, 0, 0.15);\n",
              "      filter: drop-shadow(0px 1px 2px rgba(0, 0, 0, 0.3));\n",
              "      fill: #FFFFFF;\n",
              "    }\n",
              "  </style>\n",
              "\n",
              "      <script>\n",
              "        const buttonEl =\n",
              "          document.querySelector('#df-97d80c74-78dc-489a-91de-ac3d470e80dd button.colab-df-convert');\n",
              "        buttonEl.style.display =\n",
              "          google.colab.kernel.accessAllowed ? 'block' : 'none';\n",
              "\n",
              "        async function convertToInteractive(key) {\n",
              "          const element = document.querySelector('#df-97d80c74-78dc-489a-91de-ac3d470e80dd');\n",
              "          const dataTable =\n",
              "            await google.colab.kernel.invokeFunction('convertToInteractive',\n",
              "                                                     [key], {});\n",
              "          if (!dataTable) return;\n",
              "\n",
              "          const docLinkHtml = 'Like what you see? Visit the ' +\n",
              "            '<a target=\"_blank\" href=https://colab.research.google.com/notebooks/data_table.ipynb>data table notebook</a>'\n",
              "            + ' to learn more about interactive tables.';\n",
              "          element.innerHTML = '';\n",
              "          dataTable['output_type'] = 'display_data';\n",
              "          await google.colab.output.renderOutput(dataTable, element);\n",
              "          const docLink = document.createElement('div');\n",
              "          docLink.innerHTML = docLinkHtml;\n",
              "          element.appendChild(docLink);\n",
              "        }\n",
              "      </script>\n",
              "    </div>\n",
              "  </div>\n",
              "  "
            ]
          },
          "metadata": {},
          "execution_count": 145
        }
      ]
    },
    {
      "cell_type": "markdown",
      "source": [
        "Rata-rata penghasilan dari setiap housing type"
      ],
      "metadata": {
        "id": "VsrmSC9vj6R4"
      }
    },
    {
      "cell_type": "code",
      "source": [
        "data.groupby(['NAME_INCOME_TYPE', 'NAME_HOUSING_TYPE']).mean()"
      ],
      "metadata": {
        "colab": {
          "base_uri": "https://localhost:8080/",
          "height": 1000
        },
        "id": "XeMUZA4gj0fk",
        "outputId": "b2504742-f4ab-4f46-e55b-bbbf59bff7f5"
      },
      "execution_count": 146,
      "outputs": [
        {
          "output_type": "execute_result",
          "data": {
            "text/plain": [
              "                                             SK_ID_CURR  AMT_INCOME_TOTAL  \\\n",
              "NAME_INCOME_TYPE     NAME_HOUSING_TYPE                                      \n",
              "Businessman          House / apartment    275396.900000     652500.000000   \n",
              "Commercial associate Co-op apartment      273999.308475     194705.740678   \n",
              "                     House / apartment    278083.061323     204859.081989   \n",
              "                     Municipal apartment  280681.114051     200601.966083   \n",
              "                     Office apartment     278938.208661     209573.893701   \n",
              "                     Rented apartment     283287.129154     189400.901057   \n",
              "                     With parents         278823.258646     179566.189764   \n",
              "Maternity leave      House / apartment    323323.600000     140400.000000   \n",
              "Pensioner            Co-op apartment      295276.327586     135221.120690   \n",
              "                     House / apartment    278527.215056     136252.297818   \n",
              "                     Municipal apartment  275717.681200     136384.010549   \n",
              "                     Office apartment     278247.512658     150093.071203   \n",
              "                     Rented apartment     288303.789216     151763.426471   \n",
              "                     With parents         278231.652778     138795.583333   \n",
              "State servant        Co-op apartment      291682.345238     167619.642857   \n",
              "                     House / apartment    279280.511503     178731.815584   \n",
              "                     Municipal apartment  270574.728240     189369.940039   \n",
              "                     Office apartment     278674.288931     224618.259850   \n",
              "                     Rented apartment     286565.099315     185606.830479   \n",
              "                     With parents         277544.300090     165528.923612   \n",
              "Student              House / apartment    275091.923077     175500.000000   \n",
              "                     Office apartment     292175.000000     123750.000000   \n",
              "                     Rented apartment     176024.500000     202500.000000   \n",
              "                     With parents         119612.000000     135000.000000   \n",
              "Unemployed           House / apartment    238854.764706     107576.470588   \n",
              "                     Municipal apartment  343054.000000      63000.000000   \n",
              "                     Rented apartment     148306.000000     270000.000000   \n",
              "                     With parents         348674.333333      90000.000000   \n",
              "Working              Co-op apartment      276223.237640     160926.459330   \n",
              "                     House / apartment    277815.496449     164282.185218   \n",
              "                     Municipal apartment  278761.351463     160124.366748   \n",
              "                     Office apartment     278254.339428     173203.054054   \n",
              "                     Rented apartment     279153.063767     157218.632276   \n",
              "                     With parents         278671.464738     149182.486868   \n",
              "\n",
              "                                            TARGET  \n",
              "NAME_INCOME_TYPE     NAME_HOUSING_TYPE              \n",
              "Businessman          House / apartment    0.000000  \n",
              "Commercial associate Co-op apartment      0.088136  \n",
              "                     House / apartment    0.072040  \n",
              "                     Municipal apartment  0.080880  \n",
              "                     Office apartment     0.074803  \n",
              "                     Rented apartment     0.115559  \n",
              "                     With parents         0.099610  \n",
              "Maternity leave      House / apartment    0.400000  \n",
              "Pensioner            Co-op apartment      0.043103  \n",
              "                     House / apartment    0.053344  \n",
              "                     Municipal apartment  0.065635  \n",
              "                     Office apartment     0.060127  \n",
              "                     Rented apartment     0.068627  \n",
              "                     With parents         0.046296  \n",
              "State servant        Co-op apartment      0.011905  \n",
              "                     House / apartment    0.055880  \n",
              "                     Municipal apartment  0.060928  \n",
              "                     Office apartment     0.037523  \n",
              "                     Rented apartment     0.065068  \n",
              "                     With parents         0.093441  \n",
              "Student              House / apartment    0.000000  \n",
              "                     Office apartment     0.000000  \n",
              "                     Rented apartment     0.000000  \n",
              "                     With parents         0.000000  \n",
              "Unemployed           House / apartment    0.352941  \n",
              "                     Municipal apartment  1.000000  \n",
              "                     Rented apartment     0.000000  \n",
              "                     With parents         0.333333  \n",
              "Working              Co-op apartment      0.090909  \n",
              "                     House / apartment    0.092819  \n",
              "                     Municipal apartment  0.100150  \n",
              "                     Office apartment     0.075517  \n",
              "                     Rented apartment     0.135710  \n",
              "                     With parents         0.128922  "
            ],
            "text/html": [
              "\n",
              "  <div id=\"df-3211b9b6-e4e2-47c5-845a-e8b10d390eb7\">\n",
              "    <div class=\"colab-df-container\">\n",
              "      <div>\n",
              "<style scoped>\n",
              "    .dataframe tbody tr th:only-of-type {\n",
              "        vertical-align: middle;\n",
              "    }\n",
              "\n",
              "    .dataframe tbody tr th {\n",
              "        vertical-align: top;\n",
              "    }\n",
              "\n",
              "    .dataframe thead th {\n",
              "        text-align: right;\n",
              "    }\n",
              "</style>\n",
              "<table border=\"1\" class=\"dataframe\">\n",
              "  <thead>\n",
              "    <tr style=\"text-align: right;\">\n",
              "      <th></th>\n",
              "      <th></th>\n",
              "      <th>SK_ID_CURR</th>\n",
              "      <th>AMT_INCOME_TOTAL</th>\n",
              "      <th>TARGET</th>\n",
              "    </tr>\n",
              "    <tr>\n",
              "      <th>NAME_INCOME_TYPE</th>\n",
              "      <th>NAME_HOUSING_TYPE</th>\n",
              "      <th></th>\n",
              "      <th></th>\n",
              "      <th></th>\n",
              "    </tr>\n",
              "  </thead>\n",
              "  <tbody>\n",
              "    <tr>\n",
              "      <th>Businessman</th>\n",
              "      <th>House / apartment</th>\n",
              "      <td>275396.900000</td>\n",
              "      <td>652500.000000</td>\n",
              "      <td>0.000000</td>\n",
              "    </tr>\n",
              "    <tr>\n",
              "      <th rowspan=\"6\" valign=\"top\">Commercial associate</th>\n",
              "      <th>Co-op apartment</th>\n",
              "      <td>273999.308475</td>\n",
              "      <td>194705.740678</td>\n",
              "      <td>0.088136</td>\n",
              "    </tr>\n",
              "    <tr>\n",
              "      <th>House / apartment</th>\n",
              "      <td>278083.061323</td>\n",
              "      <td>204859.081989</td>\n",
              "      <td>0.072040</td>\n",
              "    </tr>\n",
              "    <tr>\n",
              "      <th>Municipal apartment</th>\n",
              "      <td>280681.114051</td>\n",
              "      <td>200601.966083</td>\n",
              "      <td>0.080880</td>\n",
              "    </tr>\n",
              "    <tr>\n",
              "      <th>Office apartment</th>\n",
              "      <td>278938.208661</td>\n",
              "      <td>209573.893701</td>\n",
              "      <td>0.074803</td>\n",
              "    </tr>\n",
              "    <tr>\n",
              "      <th>Rented apartment</th>\n",
              "      <td>283287.129154</td>\n",
              "      <td>189400.901057</td>\n",
              "      <td>0.115559</td>\n",
              "    </tr>\n",
              "    <tr>\n",
              "      <th>With parents</th>\n",
              "      <td>278823.258646</td>\n",
              "      <td>179566.189764</td>\n",
              "      <td>0.099610</td>\n",
              "    </tr>\n",
              "    <tr>\n",
              "      <th>Maternity leave</th>\n",
              "      <th>House / apartment</th>\n",
              "      <td>323323.600000</td>\n",
              "      <td>140400.000000</td>\n",
              "      <td>0.400000</td>\n",
              "    </tr>\n",
              "    <tr>\n",
              "      <th rowspan=\"6\" valign=\"top\">Pensioner</th>\n",
              "      <th>Co-op apartment</th>\n",
              "      <td>295276.327586</td>\n",
              "      <td>135221.120690</td>\n",
              "      <td>0.043103</td>\n",
              "    </tr>\n",
              "    <tr>\n",
              "      <th>House / apartment</th>\n",
              "      <td>278527.215056</td>\n",
              "      <td>136252.297818</td>\n",
              "      <td>0.053344</td>\n",
              "    </tr>\n",
              "    <tr>\n",
              "      <th>Municipal apartment</th>\n",
              "      <td>275717.681200</td>\n",
              "      <td>136384.010549</td>\n",
              "      <td>0.065635</td>\n",
              "    </tr>\n",
              "    <tr>\n",
              "      <th>Office apartment</th>\n",
              "      <td>278247.512658</td>\n",
              "      <td>150093.071203</td>\n",
              "      <td>0.060127</td>\n",
              "    </tr>\n",
              "    <tr>\n",
              "      <th>Rented apartment</th>\n",
              "      <td>288303.789216</td>\n",
              "      <td>151763.426471</td>\n",
              "      <td>0.068627</td>\n",
              "    </tr>\n",
              "    <tr>\n",
              "      <th>With parents</th>\n",
              "      <td>278231.652778</td>\n",
              "      <td>138795.583333</td>\n",
              "      <td>0.046296</td>\n",
              "    </tr>\n",
              "    <tr>\n",
              "      <th rowspan=\"6\" valign=\"top\">State servant</th>\n",
              "      <th>Co-op apartment</th>\n",
              "      <td>291682.345238</td>\n",
              "      <td>167619.642857</td>\n",
              "      <td>0.011905</td>\n",
              "    </tr>\n",
              "    <tr>\n",
              "      <th>House / apartment</th>\n",
              "      <td>279280.511503</td>\n",
              "      <td>178731.815584</td>\n",
              "      <td>0.055880</td>\n",
              "    </tr>\n",
              "    <tr>\n",
              "      <th>Municipal apartment</th>\n",
              "      <td>270574.728240</td>\n",
              "      <td>189369.940039</td>\n",
              "      <td>0.060928</td>\n",
              "    </tr>\n",
              "    <tr>\n",
              "      <th>Office apartment</th>\n",
              "      <td>278674.288931</td>\n",
              "      <td>224618.259850</td>\n",
              "      <td>0.037523</td>\n",
              "    </tr>\n",
              "    <tr>\n",
              "      <th>Rented apartment</th>\n",
              "      <td>286565.099315</td>\n",
              "      <td>185606.830479</td>\n",
              "      <td>0.065068</td>\n",
              "    </tr>\n",
              "    <tr>\n",
              "      <th>With parents</th>\n",
              "      <td>277544.300090</td>\n",
              "      <td>165528.923612</td>\n",
              "      <td>0.093441</td>\n",
              "    </tr>\n",
              "    <tr>\n",
              "      <th rowspan=\"4\" valign=\"top\">Student</th>\n",
              "      <th>House / apartment</th>\n",
              "      <td>275091.923077</td>\n",
              "      <td>175500.000000</td>\n",
              "      <td>0.000000</td>\n",
              "    </tr>\n",
              "    <tr>\n",
              "      <th>Office apartment</th>\n",
              "      <td>292175.000000</td>\n",
              "      <td>123750.000000</td>\n",
              "      <td>0.000000</td>\n",
              "    </tr>\n",
              "    <tr>\n",
              "      <th>Rented apartment</th>\n",
              "      <td>176024.500000</td>\n",
              "      <td>202500.000000</td>\n",
              "      <td>0.000000</td>\n",
              "    </tr>\n",
              "    <tr>\n",
              "      <th>With parents</th>\n",
              "      <td>119612.000000</td>\n",
              "      <td>135000.000000</td>\n",
              "      <td>0.000000</td>\n",
              "    </tr>\n",
              "    <tr>\n",
              "      <th rowspan=\"4\" valign=\"top\">Unemployed</th>\n",
              "      <th>House / apartment</th>\n",
              "      <td>238854.764706</td>\n",
              "      <td>107576.470588</td>\n",
              "      <td>0.352941</td>\n",
              "    </tr>\n",
              "    <tr>\n",
              "      <th>Municipal apartment</th>\n",
              "      <td>343054.000000</td>\n",
              "      <td>63000.000000</td>\n",
              "      <td>1.000000</td>\n",
              "    </tr>\n",
              "    <tr>\n",
              "      <th>Rented apartment</th>\n",
              "      <td>148306.000000</td>\n",
              "      <td>270000.000000</td>\n",
              "      <td>0.000000</td>\n",
              "    </tr>\n",
              "    <tr>\n",
              "      <th>With parents</th>\n",
              "      <td>348674.333333</td>\n",
              "      <td>90000.000000</td>\n",
              "      <td>0.333333</td>\n",
              "    </tr>\n",
              "    <tr>\n",
              "      <th rowspan=\"6\" valign=\"top\">Working</th>\n",
              "      <th>Co-op apartment</th>\n",
              "      <td>276223.237640</td>\n",
              "      <td>160926.459330</td>\n",
              "      <td>0.090909</td>\n",
              "    </tr>\n",
              "    <tr>\n",
              "      <th>House / apartment</th>\n",
              "      <td>277815.496449</td>\n",
              "      <td>164282.185218</td>\n",
              "      <td>0.092819</td>\n",
              "    </tr>\n",
              "    <tr>\n",
              "      <th>Municipal apartment</th>\n",
              "      <td>278761.351463</td>\n",
              "      <td>160124.366748</td>\n",
              "      <td>0.100150</td>\n",
              "    </tr>\n",
              "    <tr>\n",
              "      <th>Office apartment</th>\n",
              "      <td>278254.339428</td>\n",
              "      <td>173203.054054</td>\n",
              "      <td>0.075517</td>\n",
              "    </tr>\n",
              "    <tr>\n",
              "      <th>Rented apartment</th>\n",
              "      <td>279153.063767</td>\n",
              "      <td>157218.632276</td>\n",
              "      <td>0.135710</td>\n",
              "    </tr>\n",
              "    <tr>\n",
              "      <th>With parents</th>\n",
              "      <td>278671.464738</td>\n",
              "      <td>149182.486868</td>\n",
              "      <td>0.128922</td>\n",
              "    </tr>\n",
              "  </tbody>\n",
              "</table>\n",
              "</div>\n",
              "      <button class=\"colab-df-convert\" onclick=\"convertToInteractive('df-3211b9b6-e4e2-47c5-845a-e8b10d390eb7')\"\n",
              "              title=\"Convert this dataframe to an interactive table.\"\n",
              "              style=\"display:none;\">\n",
              "        \n",
              "  <svg xmlns=\"http://www.w3.org/2000/svg\" height=\"24px\"viewBox=\"0 0 24 24\"\n",
              "       width=\"24px\">\n",
              "    <path d=\"M0 0h24v24H0V0z\" fill=\"none\"/>\n",
              "    <path d=\"M18.56 5.44l.94 2.06.94-2.06 2.06-.94-2.06-.94-.94-2.06-.94 2.06-2.06.94zm-11 1L8.5 8.5l.94-2.06 2.06-.94-2.06-.94L8.5 2.5l-.94 2.06-2.06.94zm10 10l.94 2.06.94-2.06 2.06-.94-2.06-.94-.94-2.06-.94 2.06-2.06.94z\"/><path d=\"M17.41 7.96l-1.37-1.37c-.4-.4-.92-.59-1.43-.59-.52 0-1.04.2-1.43.59L10.3 9.45l-7.72 7.72c-.78.78-.78 2.05 0 2.83L4 21.41c.39.39.9.59 1.41.59.51 0 1.02-.2 1.41-.59l7.78-7.78 2.81-2.81c.8-.78.8-2.07 0-2.86zM5.41 20L4 18.59l7.72-7.72 1.47 1.35L5.41 20z\"/>\n",
              "  </svg>\n",
              "      </button>\n",
              "      \n",
              "  <style>\n",
              "    .colab-df-container {\n",
              "      display:flex;\n",
              "      flex-wrap:wrap;\n",
              "      gap: 12px;\n",
              "    }\n",
              "\n",
              "    .colab-df-convert {\n",
              "      background-color: #E8F0FE;\n",
              "      border: none;\n",
              "      border-radius: 50%;\n",
              "      cursor: pointer;\n",
              "      display: none;\n",
              "      fill: #1967D2;\n",
              "      height: 32px;\n",
              "      padding: 0 0 0 0;\n",
              "      width: 32px;\n",
              "    }\n",
              "\n",
              "    .colab-df-convert:hover {\n",
              "      background-color: #E2EBFA;\n",
              "      box-shadow: 0px 1px 2px rgba(60, 64, 67, 0.3), 0px 1px 3px 1px rgba(60, 64, 67, 0.15);\n",
              "      fill: #174EA6;\n",
              "    }\n",
              "\n",
              "    [theme=dark] .colab-df-convert {\n",
              "      background-color: #3B4455;\n",
              "      fill: #D2E3FC;\n",
              "    }\n",
              "\n",
              "    [theme=dark] .colab-df-convert:hover {\n",
              "      background-color: #434B5C;\n",
              "      box-shadow: 0px 1px 3px 1px rgba(0, 0, 0, 0.15);\n",
              "      filter: drop-shadow(0px 1px 2px rgba(0, 0, 0, 0.3));\n",
              "      fill: #FFFFFF;\n",
              "    }\n",
              "  </style>\n",
              "\n",
              "      <script>\n",
              "        const buttonEl =\n",
              "          document.querySelector('#df-3211b9b6-e4e2-47c5-845a-e8b10d390eb7 button.colab-df-convert');\n",
              "        buttonEl.style.display =\n",
              "          google.colab.kernel.accessAllowed ? 'block' : 'none';\n",
              "\n",
              "        async function convertToInteractive(key) {\n",
              "          const element = document.querySelector('#df-3211b9b6-e4e2-47c5-845a-e8b10d390eb7');\n",
              "          const dataTable =\n",
              "            await google.colab.kernel.invokeFunction('convertToInteractive',\n",
              "                                                     [key], {});\n",
              "          if (!dataTable) return;\n",
              "\n",
              "          const docLinkHtml = 'Like what you see? Visit the ' +\n",
              "            '<a target=\"_blank\" href=https://colab.research.google.com/notebooks/data_table.ipynb>data table notebook</a>'\n",
              "            + ' to learn more about interactive tables.';\n",
              "          element.innerHTML = '';\n",
              "          dataTable['output_type'] = 'display_data';\n",
              "          await google.colab.output.renderOutput(dataTable, element);\n",
              "          const docLink = document.createElement('div');\n",
              "          docLink.innerHTML = docLinkHtml;\n",
              "          element.appendChild(docLink);\n",
              "        }\n",
              "      </script>\n",
              "    </div>\n",
              "  </div>\n",
              "  "
            ]
          },
          "metadata": {},
          "execution_count": 146
        }
      ]
    },
    {
      "cell_type": "markdown",
      "source": [
        ""
      ],
      "metadata": {
        "id": "VCf3qb38kCzb"
      }
    },
    {
      "cell_type": "code",
      "source": [
        "pd.crosstab(data['NAME_INCOME_TYPE'], data['NAME_HOUSING_TYPE']).plot(kind = 'bar')\n",
        "plt.title('Income Frequency of Housing Type')\n",
        "plt.xlabel('NAME_HOUSING_TYPE')\n",
        "plt.ylabel('Mean Amount Income Total')"
      ],
      "metadata": {
        "colab": {
          "base_uri": "https://localhost:8080/",
          "height": 430
        },
        "id": "3qBegABQkA7c",
        "outputId": "309763d5-7884-4ec3-f70a-61765ecebf07"
      },
      "execution_count": 147,
      "outputs": [
        {
          "output_type": "execute_result",
          "data": {
            "text/plain": [
              "Text(0, 0.5, 'Mean Amount Income Total')"
            ]
          },
          "metadata": {},
          "execution_count": 147
        },
        {
          "output_type": "display_data",
          "data": {
            "text/plain": [
              "<Figure size 432x288 with 1 Axes>"
            ],
            "image/png": "[encoded data removed]"
          },
          "metadata": {}
        }
      ]
    },
    {
      "cell_type": "markdown",
      "source": [
        "Mengidentifikasikan nilai dummies"
      ],
      "metadata": {
        "id": "8cL_IQPrl0mg"
      }
    },
    {
      "cell_type": "code",
      "source": [
        "data_final = pd.get_dummies(data)\n",
        "data_final.columns.values"
      ],
      "metadata": {
        "colab": {
          "base_uri": "https://localhost:8080/"
        },
        "id": "r30JMddokWip",
        "outputId": "b9ca322f-2b13-4b5e-c131-5edfef310c5b"
      },
      "execution_count": 148,
      "outputs": [
        {
          "output_type": "execute_result",
          "data": {
            "text/plain": [
              "array(['SK_ID_CURR', 'AMT_INCOME_TOTAL', 'TARGET', 'CODE_GENDER_F',\n",
              "       'CODE_GENDER_M', 'NAME_FAMILY_STATUS_Civil marriage',\n",
              "       'NAME_FAMILY_STATUS_Married', 'NAME_FAMILY_STATUS_Separated',\n",
              "       'NAME_FAMILY_STATUS_Single / not married',\n",
              "       'NAME_FAMILY_STATUS_Widow', 'NAME_HOUSING_TYPE_Co-op apartment',\n",
              "       'NAME_HOUSING_TYPE_House / apartment',\n",
              "       'NAME_HOUSING_TYPE_Municipal apartment',\n",
              "       'NAME_HOUSING_TYPE_Office apartment',\n",
              "       'NAME_HOUSING_TYPE_Rented apartment',\n",
              "       'NAME_HOUSING_TYPE_With parents', 'NAME_INCOME_TYPE_Businessman',\n",
              "       'NAME_INCOME_TYPE_Commercial associate',\n",
              "       'NAME_INCOME_TYPE_Maternity leave', 'NAME_INCOME_TYPE_Pensioner',\n",
              "       'NAME_INCOME_TYPE_State servant', 'NAME_INCOME_TYPE_Student',\n",
              "       'NAME_INCOME_TYPE_Unemployed', 'NAME_INCOME_TYPE_Working'],\n",
              "      dtype=object)"
            ]
          },
          "metadata": {},
          "execution_count": 148
        }
      ]
    },
    {
      "cell_type": "markdown",
      "source": [
        "# **LOGISTIC REGRESSION**"
      ],
      "metadata": {
        "id": "FLcEDRze1c9I"
      }
    },
    {
      "cell_type": "code",
      "source": [
        "X = data_final.loc[:, data_final.columns != 'TARGET']\n",
        "y = data_final.loc[:, data_final.columns == 'TARGET']\n",
        "\n",
        "from imblearn.over_sampling import SMOTE\n",
        "os = SMOTE(random_state=0)\n",
        "X_train, X_test, y_train, y_test = train_test_split(X, y, test_size=0.3, random_state=0)\n",
        "columns = X_train.columns\n",
        "X_train = np.array(X_train)\n",
        "os_data_X,os_data_y=os.fit_resample(X_train, y_train)\n",
        "os_data_X = pd.DataFrame(data=os_data_X,columns=columns )\n",
        "os_data_y= pd.DataFrame(data=os_data_y,columns=['TARGET'])\n",
        "\n",
        "# we can Check the numbers of our data\n",
        "print(\"length of oversampled data is \",len(os_data_X))\n",
        "print(\"Number of no subscription in oversampled data\",len(os_data_y[os_data_y['TARGET']==0]))\n",
        "print(\"Number of subscription\",len(os_data_y[os_data_y['TARGET']==1]))\n",
        "print(\"Proportion of no subscription data in oversampled data is \",len(os_data_y[os_data_y['TARGET']==0])/len(os_data_X))\n",
        "print(\"Proportion of subscription data in oversampled data is \",len(os_data_y[os_data_y['TARGET']==1])/len(os_data_X))"
      ],
      "metadata": {
        "colab": {
          "base_uri": "https://localhost:8080/"
        },
        "id": "G68DF7cDlxPC",
        "outputId": "d2e8750a-0450-4b63-e1d6-dd072ccb3d04"
      },
      "execution_count": 150,
      "outputs": [
        {
          "output_type": "stream",
          "name": "stdout",
          "text": [
            "length of oversampled data is  395544\n",
            "Number of no subscription in oversampled data 197772\n",
            "Number of subscription 197772\n",
            "Proportion of no subscription data in oversampled data is  0.5\n",
            "Proportion of subscription data in oversampled data is  0.5\n"
          ]
        }
      ]
    },
    {
      "cell_type": "code",
      "source": [
        "data_final_vars=data_final.columns.values.tolist()\n",
        "y=['TARGET']\n",
        "X=[i for i in data_final_vars if i not in y]\n",
        "\n",
        "from sklearn.feature_selection import RFE\n",
        "from sklearn.linear_model import LogisticRegression\n",
        "\n",
        "logreg = LogisticRegression()\n",
        "\n",
        "rfe = RFE(logreg)\n",
        "rfe = rfe.fit(os_data_X, os_data_y.values.ravel())\n",
        "print(rfe.support_)\n",
        "print(rfe.ranking_)"
      ],
      "metadata": {
        "colab": {
          "base_uri": "https://localhost:8080/"
        },
        "id": "fPcRheZ9nUd9",
        "outputId": "50b85861-93d0-47ad-c927-c9c17df58b54"
      },
      "execution_count": 151,
      "outputs": [
        {
          "output_type": "stream",
          "name": "stdout",
          "text": [
            "[ True  True  True  True  True  True False  True False False  True False\n",
            " False False  True False False False  True False False False  True]\n",
            "[ 1  1  1  1  1  1  8  1  3 10  1  6  7  5  1 12  4 13  1  2 11  9  1]\n"
          ]
        }
      ]
    },
    {
      "cell_type": "code",
      "source": [
        "X"
      ],
      "metadata": {
        "colab": {
          "base_uri": "https://localhost:8080/",
          "height": 505
        },
        "id": "N9O2P1E7CLdS",
        "outputId": "9b2111ad-35b4-465b-cd35-0877ea2b4ce1"
      },
      "execution_count": 164,
      "outputs": [
        {
          "output_type": "execute_result",
          "data": {
            "text/plain": [
              "           SK_ID_CURR  AMT_INCOME_TOTAL  CODE_GENDER_F  CODE_GENDER_M  \\\n",
              "0       245635.000000          153000.0       0.000000       1.000000   \n",
              "1       159635.000000          427500.0       1.000000       0.000000   \n",
              "2       420342.000000          135000.0       1.000000       0.000000   \n",
              "3       383056.000000          270000.0       1.000000       0.000000   \n",
              "4       213786.000000          180000.0       1.000000       0.000000   \n",
              "...               ...               ...            ...            ...   \n",
              "395539  240177.386699          135000.0       0.000000       1.000000   \n",
              "395540  205791.691606          202500.0       0.512897       0.487103   \n",
              "395541  423962.335510          225000.0       0.000000       1.000000   \n",
              "395542  160138.482576          270000.0       0.689784       0.310216   \n",
              "395543  188236.367028          135000.0       1.000000       0.000000   \n",
              "\n",
              "        NAME_FAMILY_STATUS_Married  NAME_FAMILY_STATUS_Single / not married  \\\n",
              "0                         0.000000                                 1.000000   \n",
              "1                         1.000000                                 0.000000   \n",
              "2                         0.000000                                 1.000000   \n",
              "3                         0.000000                                 0.000000   \n",
              "4                         1.000000                                 0.000000   \n",
              "...                            ...                                      ...   \n",
              "395539                    1.000000                                 0.000000   \n",
              "395540                    1.000000                                 0.000000   \n",
              "395541                    0.945724                                 0.054276   \n",
              "395542                    0.000000                                 0.310216   \n",
              "395543                    1.000000                                 0.000000   \n",
              "\n",
              "        NAME_HOUSING_TYPE_House / apartment  NAME_HOUSING_TYPE_With parents  \\\n",
              "0                                  1.000000                             0.0   \n",
              "1                                  1.000000                             0.0   \n",
              "2                                  1.000000                             0.0   \n",
              "3                                  1.000000                             0.0   \n",
              "4                                  1.000000                             0.0   \n",
              "...                                     ...                             ...   \n",
              "395539                             1.000000                             0.0   \n",
              "395540                             1.000000                             0.0   \n",
              "395541                             0.945724                             0.0   \n",
              "395542                             1.000000                             0.0   \n",
              "395543                             1.000000                             0.0   \n",
              "\n",
              "        NAME_INCOME_TYPE_Pensioner  NAME_INCOME_TYPE_State servant  \\\n",
              "0                         1.000000                             0.0   \n",
              "1                         1.000000                             0.0   \n",
              "2                         0.000000                             0.0   \n",
              "3                         1.000000                             0.0   \n",
              "4                         0.000000                             0.0   \n",
              "...                            ...                             ...   \n",
              "395539                    0.000000                             0.0   \n",
              "395540                    0.000000                             0.0   \n",
              "395541                    0.000000                             0.0   \n",
              "395542                    0.689784                             0.0   \n",
              "395543                    0.000000                             0.0   \n",
              "\n",
              "        NAME_INCOME_TYPE_Working  \n",
              "0                       0.000000  \n",
              "1                       0.000000  \n",
              "2                       1.000000  \n",
              "3                       0.000000  \n",
              "4                       1.000000  \n",
              "...                          ...  \n",
              "395539                  1.000000  \n",
              "395540                  0.512897  \n",
              "395541                  1.000000  \n",
              "395542                  0.310216  \n",
              "395543                  1.000000  \n",
              "\n",
              "[395544 rows x 11 columns]"
            ],
            "text/html": [
              "\n",
              "  <div id=\"df-cdb97f4a-26b8-4fd5-8a36-9a19f9473722\">\n",
              "    <div class=\"colab-df-container\">\n",
              "      <div>\n",
              "<style scoped>\n",
              "    .dataframe tbody tr th:only-of-type {\n",
              "        vertical-align: middle;\n",
              "    }\n",
              "\n",
              "    .dataframe tbody tr th {\n",
              "        vertical-align: top;\n",
              "    }\n",
              "\n",
              "    .dataframe thead th {\n",
              "        text-align: right;\n",
              "    }\n",
              "</style>\n",
              "<table border=\"1\" class=\"dataframe\">\n",
              "  <thead>\n",
              "    <tr style=\"text-align: right;\">\n",
              "      <th></th>\n",
              "      <th>SK_ID_CURR</th>\n",
              "      <th>AMT_INCOME_TOTAL</th>\n",
              "      <th>CODE_GENDER_F</th>\n",
              "      <th>CODE_GENDER_M</th>\n",
              "      <th>NAME_FAMILY_STATUS_Married</th>\n",
              "      <th>NAME_FAMILY_STATUS_Single / not married</th>\n",
              "      <th>NAME_HOUSING_TYPE_House / apartment</th>\n",
              "      <th>NAME_HOUSING_TYPE_With parents</th>\n",
              "      <th>NAME_INCOME_TYPE_Pensioner</th>\n",
              "      <th>NAME_INCOME_TYPE_State servant</th>\n",
              "      <th>NAME_INCOME_TYPE_Working</th>\n",
              "    </tr>\n",
              "  </thead>\n",
              "  <tbody>\n",
              "    <tr>\n",
              "      <th>0</th>\n",
              "      <td>245635.000000</td>\n",
              "      <td>153000.0</td>\n",
              "      <td>0.000000</td>\n",
              "      <td>1.000000</td>\n",
              "      <td>0.000000</td>\n",
              "      <td>1.000000</td>\n",
              "      <td>1.000000</td>\n",
              "      <td>0.0</td>\n",
              "      <td>1.000000</td>\n",
              "      <td>0.0</td>\n",
              "      <td>0.000000</td>\n",
              "    </tr>\n",
              "    <tr>\n",
              "      <th>1</th>\n",
              "      <td>159635.000000</td>\n",
              "      <td>427500.0</td>\n",
              "      <td>1.000000</td>\n",
              "      <td>0.000000</td>\n",
              "      <td>1.000000</td>\n",
              "      <td>0.000000</td>\n",
              "      <td>1.000000</td>\n",
              "      <td>0.0</td>\n",
              "      <td>1.000000</td>\n",
              "      <td>0.0</td>\n",
              "      <td>0.000000</td>\n",
              "    </tr>\n",
              "    <tr>\n",
              "      <th>2</th>\n",
              "      <td>420342.000000</td>\n",
              "      <td>135000.0</td>\n",
              "      <td>1.000000</td>\n",
              "      <td>0.000000</td>\n",
              "      <td>0.000000</td>\n",
              "      <td>1.000000</td>\n",
              "      <td>1.000000</td>\n",
              "      <td>0.0</td>\n",
              "      <td>0.000000</td>\n",
              "      <td>0.0</td>\n",
              "      <td>1.000000</td>\n",
              "    </tr>\n",
              "    <tr>\n",
              "      <th>3</th>\n",
              "      <td>383056.000000</td>\n",
              "      <td>270000.0</td>\n",
              "      <td>1.000000</td>\n",
              "      <td>0.000000</td>\n",
              "      <td>0.000000</td>\n",
              "      <td>0.000000</td>\n",
              "      <td>1.000000</td>\n",
              "      <td>0.0</td>\n",
              "      <td>1.000000</td>\n",
              "      <td>0.0</td>\n",
              "      <td>0.000000</td>\n",
              "    </tr>\n",
              "    <tr>\n",
              "      <th>4</th>\n",
              "      <td>213786.000000</td>\n",
              "      <td>180000.0</td>\n",
              "      <td>1.000000</td>\n",
              "      <td>0.000000</td>\n",
              "      <td>1.000000</td>\n",
              "      <td>0.000000</td>\n",
              "      <td>1.000000</td>\n",
              "      <td>0.0</td>\n",
              "      <td>0.000000</td>\n",
              "      <td>0.0</td>\n",
              "      <td>1.000000</td>\n",
              "    </tr>\n",
              "    <tr>\n",
              "      <th>...</th>\n",
              "      <td>...</td>\n",
              "      <td>...</td>\n",
              "      <td>...</td>\n",
              "      <td>...</td>\n",
              "      <td>...</td>\n",
              "      <td>...</td>\n",
              "      <td>...</td>\n",
              "      <td>...</td>\n",
              "      <td>...</td>\n",
              "      <td>...</td>\n",
              "      <td>...</td>\n",
              "    </tr>\n",
              "    <tr>\n",
              "      <th>395539</th>\n",
              "      <td>240177.386699</td>\n",
              "      <td>135000.0</td>\n",
              "      <td>0.000000</td>\n",
              "      <td>1.000000</td>\n",
              "      <td>1.000000</td>\n",
              "      <td>0.000000</td>\n",
              "      <td>1.000000</td>\n",
              "      <td>0.0</td>\n",
              "      <td>0.000000</td>\n",
              "      <td>0.0</td>\n",
              "      <td>1.000000</td>\n",
              "    </tr>\n",
              "    <tr>\n",
              "      <th>395540</th>\n",
              "      <td>205791.691606</td>\n",
              "      <td>202500.0</td>\n",
              "      <td>0.512897</td>\n",
              "      <td>0.487103</td>\n",
              "      <td>1.000000</td>\n",
              "      <td>0.000000</td>\n",
              "      <td>1.000000</td>\n",
              "      <td>0.0</td>\n",
              "      <td>0.000000</td>\n",
              "      <td>0.0</td>\n",
              "      <td>0.512897</td>\n",
              "    </tr>\n",
              "    <tr>\n",
              "      <th>395541</th>\n",
              "      <td>423962.335510</td>\n",
              "      <td>225000.0</td>\n",
              "      <td>0.000000</td>\n",
              "      <td>1.000000</td>\n",
              "      <td>0.945724</td>\n",
              "      <td>0.054276</td>\n",
              "      <td>0.945724</td>\n",
              "      <td>0.0</td>\n",
              "      <td>0.000000</td>\n",
              "      <td>0.0</td>\n",
              "      <td>1.000000</td>\n",
              "    </tr>\n",
              "    <tr>\n",
              "      <th>395542</th>\n",
              "      <td>160138.482576</td>\n",
              "      <td>270000.0</td>\n",
              "      <td>0.689784</td>\n",
              "      <td>0.310216</td>\n",
              "      <td>0.000000</td>\n",
              "      <td>0.310216</td>\n",
              "      <td>1.000000</td>\n",
              "      <td>0.0</td>\n",
              "      <td>0.689784</td>\n",
              "      <td>0.0</td>\n",
              "      <td>0.310216</td>\n",
              "    </tr>\n",
              "    <tr>\n",
              "      <th>395543</th>\n",
              "      <td>188236.367028</td>\n",
              "      <td>135000.0</td>\n",
              "      <td>1.000000</td>\n",
              "      <td>0.000000</td>\n",
              "      <td>1.000000</td>\n",
              "      <td>0.000000</td>\n",
              "      <td>1.000000</td>\n",
              "      <td>0.0</td>\n",
              "      <td>0.000000</td>\n",
              "      <td>0.0</td>\n",
              "      <td>1.000000</td>\n",
              "    </tr>\n",
              "  </tbody>\n",
              "</table>\n",
              "<p>395544 rows × 11 columns</p>\n",
              "</div>\n",
              "      <button class=\"colab-df-convert\" onclick=\"convertToInteractive('df-cdb97f4a-26b8-4fd5-8a36-9a19f9473722')\"\n",
              "              title=\"Convert this dataframe to an interactive table.\"\n",
              "              style=\"display:none;\">\n",
              "        \n",
              "  <svg xmlns=\"http://www.w3.org/2000/svg\" height=\"24px\"viewBox=\"0 0 24 24\"\n",
              "       width=\"24px\">\n",
              "    <path d=\"M0 0h24v24H0V0z\" fill=\"none\"/>\n",
              "    <path d=\"M18.56 5.44l.94 2.06.94-2.06 2.06-.94-2.06-.94-.94-2.06-.94 2.06-2.06.94zm-11 1L8.5 8.5l.94-2.06 2.06-.94-2.06-.94L8.5 2.5l-.94 2.06-2.06.94zm10 10l.94 2.06.94-2.06 2.06-.94-2.06-.94-.94-2.06-.94 2.06-2.06.94z\"/><path d=\"M17.41 7.96l-1.37-1.37c-.4-.4-.92-.59-1.43-.59-.52 0-1.04.2-1.43.59L10.3 9.45l-7.72 7.72c-.78.78-.78 2.05 0 2.83L4 21.41c.39.39.9.59 1.41.59.51 0 1.02-.2 1.41-.59l7.78-7.78 2.81-2.81c.8-.78.8-2.07 0-2.86zM5.41 20L4 18.59l7.72-7.72 1.47 1.35L5.41 20z\"/>\n",
              "  </svg>\n",
              "      </button>\n",
              "      \n",
              "  <style>\n",
              "    .colab-df-container {\n",
              "      display:flex;\n",
              "      flex-wrap:wrap;\n",
              "      gap: 12px;\n",
              "    }\n",
              "\n",
              "    .colab-df-convert {\n",
              "      background-color: #E8F0FE;\n",
              "      border: none;\n",
              "      border-radius: 50%;\n",
              "      cursor: pointer;\n",
              "      display: none;\n",
              "      fill: #1967D2;\n",
              "      height: 32px;\n",
              "      padding: 0 0 0 0;\n",
              "      width: 32px;\n",
              "    }\n",
              "\n",
              "    .colab-df-convert:hover {\n",
              "      background-color: #E2EBFA;\n",
              "      box-shadow: 0px 1px 2px rgba(60, 64, 67, 0.3), 0px 1px 3px 1px rgba(60, 64, 67, 0.15);\n",
              "      fill: #174EA6;\n",
              "    }\n",
              "\n",
              "    [theme=dark] .colab-df-convert {\n",
              "      background-color: #3B4455;\n",
              "      fill: #D2E3FC;\n",
              "    }\n",
              "\n",
              "    [theme=dark] .colab-df-convert:hover {\n",
              "      background-color: #434B5C;\n",
              "      box-shadow: 0px 1px 3px 1px rgba(0, 0, 0, 0.15);\n",
              "      filter: drop-shadow(0px 1px 2px rgba(0, 0, 0, 0.3));\n",
              "      fill: #FFFFFF;\n",
              "    }\n",
              "  </style>\n",
              "\n",
              "      <script>\n",
              "        const buttonEl =\n",
              "          document.querySelector('#df-cdb97f4a-26b8-4fd5-8a36-9a19f9473722 button.colab-df-convert');\n",
              "        buttonEl.style.display =\n",
              "          google.colab.kernel.accessAllowed ? 'block' : 'none';\n",
              "\n",
              "        async function convertToInteractive(key) {\n",
              "          const element = document.querySelector('#df-cdb97f4a-26b8-4fd5-8a36-9a19f9473722');\n",
              "          const dataTable =\n",
              "            await google.colab.kernel.invokeFunction('convertToInteractive',\n",
              "                                                     [key], {});\n",
              "          if (!dataTable) return;\n",
              "\n",
              "          const docLinkHtml = 'Like what you see? Visit the ' +\n",
              "            '<a target=\"_blank\" href=https://colab.research.google.com/notebooks/data_table.ipynb>data table notebook</a>'\n",
              "            + ' to learn more about interactive tables.';\n",
              "          element.innerHTML = '';\n",
              "          dataTable['output_type'] = 'display_data';\n",
              "          await google.colab.output.renderOutput(dataTable, element);\n",
              "          const docLink = document.createElement('div');\n",
              "          docLink.innerHTML = docLinkHtml;\n",
              "          element.appendChild(docLink);\n",
              "        }\n",
              "      </script>\n",
              "    </div>\n",
              "  </div>\n",
              "  "
            ]
          },
          "metadata": {},
          "execution_count": 164
        }
      ]
    },
    {
      "cell_type": "code",
      "source": [
        "cols=['SK_ID_CURR', 'AMT_INCOME_TOTAL', 'CODE_GENDER_F', 'CODE_GENDER_M', 'NAME_FAMILY_STATUS_Married', \n",
        "      'NAME_FAMILY_STATUS_Single / not married', 'NAME_HOUSING_TYPE_House / apartment', \n",
        "      'NAME_HOUSING_TYPE_With parents', 'NAME_INCOME_TYPE_Pensioner', 'NAME_INCOME_TYPE_State servant', \n",
        "      'NAME_INCOME_TYPE_Working']\n",
        "X=os_data_X[cols]\n",
        "y=os_data_y['TARGET']"
      ],
      "metadata": {
        "id": "xoNePZsSoGXH"
      },
      "execution_count": 152,
      "outputs": []
    },
    {
      "cell_type": "code",
      "source": [
        "import statsmodels.api as sm\n",
        "logit_model=sm.Logit(y,X)\n",
        "result=logit_model.fit()\n",
        "print(result.summary2())"
      ],
      "metadata": {
        "colab": {
          "base_uri": "https://localhost:8080/"
        },
        "id": "2npFc-2ioX21",
        "outputId": "de105e61-91da-457f-dd7d-83df8634c9b6"
      },
      "execution_count": 153,
      "outputs": [
        {
          "output_type": "stream",
          "name": "stderr",
          "text": [
            "/usr/local/lib/python3.7/dist-packages/statsmodels/tools/_testing.py:19: FutureWarning: pandas.util.testing is deprecated. Use the functions in the public API at pandas.testing instead.\n",
            "  import pandas.util.testing as tm\n"
          ]
        },
        {
          "output_type": "stream",
          "name": "stdout",
          "text": [
            "Optimization terminated successfully.\n",
            "         Current function value: 0.677048\n",
            "         Iterations 6\n",
            "                                     Results: Logit\n",
            "========================================================================================\n",
            "Model:                      Logit                   Pseudo R-squared:        0.023      \n",
            "Dependent Variable:         TARGET                  AIC:                     535626.3751\n",
            "Date:                       2022-07-31 09:41        BIC:                     535746.1433\n",
            "No. Observations:           395544                  Log-Likelihood:          -2.6780e+05\n",
            "Df Model:                   10                      LL-Null:                 -2.7417e+05\n",
            "Df Residuals:               395533                  LLR p-value:             0.0000     \n",
            "Converged:                  1.0000                  Scale:                   1.0000     \n",
            "No. Iterations:             6.0000                                                      \n",
            "----------------------------------------------------------------------------------------\n",
            "                                         Coef.  Std.Err.    z     P>|z|   [0.025  0.975]\n",
            "----------------------------------------------------------------------------------------\n",
            "SK_ID_CURR                              -0.0000   0.0000  -2.0272 0.0426 -0.0000 -0.0000\n",
            "AMT_INCOME_TOTAL                        -0.0000   0.0000 -19.8462 0.0000 -0.0000 -0.0000\n",
            "CODE_GENDER_F                            0.1868   0.0199   9.4114 0.0000  0.1479  0.2257\n",
            "CODE_GENDER_M                            0.6337   0.0209  30.2932 0.0000  0.5927  0.6747\n",
            "NAME_FAMILY_STATUS_Married              -0.2146   0.0089 -24.2419 0.0000 -0.2320 -0.1973\n",
            "NAME_FAMILY_STATUS_Single / not married  0.0706   0.0117   6.0071 0.0000  0.0475  0.0936\n",
            "NAME_HOUSING_TYPE_House / apartment     -0.2115   0.0140 -15.1514 0.0000 -0.2388 -0.1841\n",
            "NAME_HOUSING_TYPE_With parents           0.1909   0.0203   9.4172 0.0000  0.1512  0.2307\n",
            "NAME_INCOME_TYPE_Pensioner              -0.3719   0.0119 -31.1243 0.0000 -0.3953 -0.3484\n",
            "NAME_INCOME_TYPE_State servant          -0.2972   0.0159 -18.6770 0.0000 -0.3284 -0.2661\n",
            "NAME_INCOME_TYPE_Working                 0.2696   0.0088  30.5812 0.0000  0.2523  0.2869\n",
            "========================================================================================\n",
            "\n"
          ]
        }
      ]
    },
    {
      "cell_type": "code",
      "source": [
        "from sklearn.linear_model import LogisticRegression\n",
        "from sklearn import metrics\n",
        "X_train, X_test, y_train, y_test = train_test_split(X, y, test_size=0.3, random_state=0)\n",
        "logreg = LogisticRegression().fit(X_train, y_train)\n",
        "logreg"
      ],
      "metadata": {
        "colab": {
          "base_uri": "https://localhost:8080/"
        },
        "id": "7h1mAOVjodPP",
        "outputId": "bf13d8a7-5554-4a71-fb13-59a13ad6ceba"
      },
      "execution_count": 158,
      "outputs": [
        {
          "output_type": "execute_result",
          "data": {
            "text/plain": [
              "LogisticRegression()"
            ]
          },
          "metadata": {},
          "execution_count": 158
        }
      ]
    },
    {
      "cell_type": "code",
      "source": [
        "y_pred = logreg.predict(X_test)\n",
        "print('Akurasi pengklasifikasi regresi logistik pada set tes: {:.2f}'.format(logreg.score(X_test, y_test)))"
      ],
      "metadata": {
        "colab": {
          "base_uri": "https://localhost:8080/"
        },
        "id": "uxfN9MM8poo1",
        "outputId": "23f6f59b-25cc-42ad-8605-d4743d2dc55c"
      },
      "execution_count": 161,
      "outputs": [
        {
          "output_type": "stream",
          "name": "stdout",
          "text": [
            "Akurasi pengklasifikasi regresi logistik pada set tes: 0.51\n"
          ]
        }
      ]
    },
    {
      "cell_type": "code",
      "source": [
        "from sklearn.metrics import confusion_matrix\n",
        "confusion_matrix = confusion_matrix(y_test, y_pred)\n",
        "print(confusion_matrix)"
      ],
      "metadata": {
        "colab": {
          "base_uri": "https://localhost:8080/"
        },
        "id": "viH3SmmirY2h",
        "outputId": "0c1e62a9-0d79-40e3-81b1-e8172879d18f"
      },
      "execution_count": 160,
      "outputs": [
        {
          "output_type": "stream",
          "name": "stdout",
          "text": [
            "[[30467 29234]\n",
            " [29148 29815]]\n"
          ]
        }
      ]
    },
    {
      "cell_type": "markdown",
      "source": [
        "Hasil matriks di atas menunjukkan bahwa kita mempunya 30467+29815 merupakan prediksi yang benar dan 29234+29148 merupakan prediksi yang salah "
      ],
      "metadata": {
        "id": "gedy7dbfrl2Y"
      }
    },
    {
      "cell_type": "code",
      "source": [
        "from sklearn.metrics import classification_report\n",
        "print(classification_report(y_test, y_pred))"
      ],
      "metadata": {
        "colab": {
          "base_uri": "https://localhost:8080/"
        },
        "id": "j4BoICMPrdEK",
        "outputId": "8f1e74e1-5352-49f3-92ce-5a8852b6abd4"
      },
      "execution_count": 162,
      "outputs": [
        {
          "output_type": "stream",
          "name": "stdout",
          "text": [
            "              precision    recall  f1-score   support\n",
            "\n",
            "         0.0       0.51      0.51      0.51     59701\n",
            "         1.0       0.50      0.51      0.51     58963\n",
            "\n",
            "    accuracy                           0.51    118664\n",
            "   macro avg       0.51      0.51      0.51    118664\n",
            "weighted avg       0.51      0.51      0.51    118664\n",
            "\n"
          ]
        }
      ]
    },
    {
      "cell_type": "code",
      "source": [
        "from sklearn.metrics import roc_auc_score\n",
        "from sklearn.metrics import roc_curve\n",
        "logit_roc_auc = roc_auc_score(y_test, logreg.predict(X_test))\n",
        "fpr, tpr, thresholds = roc_curve(y_test, logreg.predict_proba(X_test)[:,1])\n",
        "plt.figure()\n",
        "plt.plot(fpr, tpr, label='Logistic Regression (area = %0.2f)' % logit_roc_auc)\n",
        "plt.plot([0, 1], [0, 1],'r--')\n",
        "plt.xlim([0.0, 1.0])\n",
        "plt.ylim([0.0, 1.05])\n",
        "plt.xlabel('False Positive Rate')\n",
        "plt.ylabel('True Positive Rate')\n",
        "plt.title('Receiver operating characteristic')\n",
        "plt.legend(loc=\"lower right\")\n",
        "plt.savefig('Log_ROC')\n",
        "plt.show()"
      ],
      "metadata": {
        "colab": {
          "base_uri": "https://localhost:8080/",
          "height": 301
        },
        "id": "mOB29QnhsArS",
        "outputId": "1abfa78c-6945-4550-f067-e1ca944d66ed"
      },
      "execution_count": 163,
      "outputs": [
        {
          "output_type": "display_data",
          "data": {
            "text/plain": [
              "<Figure size 432x288 with 1 Axes>"
            ],
            "image/png": "[encoded data removed]"
          },
          "metadata": {}
        }
      ]
    },
    {
      "cell_type": "code",
      "source": [
        ""
      ],
      "metadata": {
        "id": "Y846mpoAsEVJ"
      },
      "execution_count": null,
      "outputs": []
    }
  ]
}